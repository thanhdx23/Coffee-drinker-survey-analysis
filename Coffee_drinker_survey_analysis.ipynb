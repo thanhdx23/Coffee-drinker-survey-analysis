{
  "nbformat": 4,
  "nbformat_minor": 0,
  "metadata": {
    "colab": {
      "provenance": []
    },
    "kernelspec": {
      "name": "python3",
      "display_name": "Python 3"
    },
    "language_info": {
      "name": "python"
    }
  },
  "cells": [
    {
      "cell_type": "code",
      "execution_count": 1,
      "metadata": {
        "id": "qyMJmOYkU-oV"
      },
      "outputs": [],
      "source": [
        "import pandas as pd\n",
        "import numpy as np\n",
        "from matplotlib import pyplot as plt\n",
        "import seaborn as sns"
      ]
    },
    {
      "cell_type": "code",
      "source": [
        "from google.colab import drive\n",
        "drive.mount('/content/drive')"
      ],
      "metadata": {
        "colab": {
          "base_uri": "https://localhost:8080/"
        },
        "id": "Y6imc9pgVDtW",
        "outputId": "a7ac7c48-c4a3-45ba-bc32-44da8abd82f3"
      },
      "execution_count": 2,
      "outputs": [
        {
          "output_type": "stream",
          "name": "stdout",
          "text": [
            "Mounted at /content/drive\n"
          ]
        }
      ]
    },
    {
      "cell_type": "code",
      "source": [
        "## load dataset here\n",
        "df = pd.read_csv(\"/content/drive/My Drive/Datasets/Coffee Taste Test/coffee_survey.csv\")\n",
        "df.head()"
      ],
      "metadata": {
        "colab": {
          "base_uri": "https://localhost:8080/",
          "height": 515
        },
        "id": "g5M7lHe0VKSb",
        "outputId": "3c4fedab-c56c-4fbf-d853-04c7ba7471fa"
      },
      "execution_count": 3,
      "outputs": [
        {
          "output_type": "execute_result",
          "data": {
            "text/plain": [
              "  submission_id              age cups where_drink  \\\n",
              "0        gMR29l  18-24 years old  NaN         NaN   \n",
              "1        BkPN0e  25-34 years old  NaN         NaN   \n",
              "2        W5G8jj  25-34 years old  NaN         NaN   \n",
              "3        4xWgGr  35-44 years old  NaN         NaN   \n",
              "4        QD27Q8  25-34 years old  NaN         NaN   \n",
              "\n",
              "                                          brew brew_other purchase  \\\n",
              "0                                          NaN        NaN      NaN   \n",
              "1  Pod/capsule machine (e.g. Keurig/Nespresso)        NaN      NaN   \n",
              "2                          Bean-to-cup machine        NaN      NaN   \n",
              "3     Coffee brewing machine (e.g. Mr. Coffee)        NaN      NaN   \n",
              "4                                    Pour over        NaN      NaN   \n",
              "\n",
              "  purchase_other             favorite favorite_specify  ... spent_equipment  \\\n",
              "0            NaN  Regular drip coffee              NaN  ...             NaN   \n",
              "1            NaN          Iced coffee              NaN  ...             NaN   \n",
              "2            NaN  Regular drip coffee              NaN  ...             NaN   \n",
              "3            NaN          Iced coffee              NaN  ...             NaN   \n",
              "4            NaN                Latte              NaN  ...             NaN   \n",
              "\n",
              "  value_equipment gender gender_specify education_level ethnicity_race  \\\n",
              "0             NaN    NaN            NaN             NaN            NaN   \n",
              "1             NaN    NaN            NaN             NaN            NaN   \n",
              "2             NaN    NaN            NaN             NaN            NaN   \n",
              "3             NaN    NaN            NaN             NaN            NaN   \n",
              "4             NaN    NaN            NaN             NaN            NaN   \n",
              "\n",
              "  ethnicity_race_specify employment_status  number_children  \\\n",
              "0                    NaN               NaN              NaN   \n",
              "1                    NaN               NaN              NaN   \n",
              "2                    NaN               NaN              NaN   \n",
              "3                    NaN               NaN              NaN   \n",
              "4                    NaN               NaN              NaN   \n",
              "\n",
              "   political_affiliation  \n",
              "0                    NaN  \n",
              "1                    NaN  \n",
              "2                    NaN  \n",
              "3                    NaN  \n",
              "4                    NaN  \n",
              "\n",
              "[5 rows x 57 columns]"
            ],
            "text/html": [
              "\n",
              "  <div id=\"df-6e047270-a64d-4a66-bf6a-5fee9282992c\" class=\"colab-df-container\">\n",
              "    <div>\n",
              "<style scoped>\n",
              "    .dataframe tbody tr th:only-of-type {\n",
              "        vertical-align: middle;\n",
              "    }\n",
              "\n",
              "    .dataframe tbody tr th {\n",
              "        vertical-align: top;\n",
              "    }\n",
              "\n",
              "    .dataframe thead th {\n",
              "        text-align: right;\n",
              "    }\n",
              "</style>\n",
              "<table border=\"1\" class=\"dataframe\">\n",
              "  <thead>\n",
              "    <tr style=\"text-align: right;\">\n",
              "      <th></th>\n",
              "      <th>submission_id</th>\n",
              "      <th>age</th>\n",
              "      <th>cups</th>\n",
              "      <th>where_drink</th>\n",
              "      <th>brew</th>\n",
              "      <th>brew_other</th>\n",
              "      <th>purchase</th>\n",
              "      <th>purchase_other</th>\n",
              "      <th>favorite</th>\n",
              "      <th>favorite_specify</th>\n",
              "      <th>...</th>\n",
              "      <th>spent_equipment</th>\n",
              "      <th>value_equipment</th>\n",
              "      <th>gender</th>\n",
              "      <th>gender_specify</th>\n",
              "      <th>education_level</th>\n",
              "      <th>ethnicity_race</th>\n",
              "      <th>ethnicity_race_specify</th>\n",
              "      <th>employment_status</th>\n",
              "      <th>number_children</th>\n",
              "      <th>political_affiliation</th>\n",
              "    </tr>\n",
              "  </thead>\n",
              "  <tbody>\n",
              "    <tr>\n",
              "      <th>0</th>\n",
              "      <td>gMR29l</td>\n",
              "      <td>18-24 years old</td>\n",
              "      <td>NaN</td>\n",
              "      <td>NaN</td>\n",
              "      <td>NaN</td>\n",
              "      <td>NaN</td>\n",
              "      <td>NaN</td>\n",
              "      <td>NaN</td>\n",
              "      <td>Regular drip coffee</td>\n",
              "      <td>NaN</td>\n",
              "      <td>...</td>\n",
              "      <td>NaN</td>\n",
              "      <td>NaN</td>\n",
              "      <td>NaN</td>\n",
              "      <td>NaN</td>\n",
              "      <td>NaN</td>\n",
              "      <td>NaN</td>\n",
              "      <td>NaN</td>\n",
              "      <td>NaN</td>\n",
              "      <td>NaN</td>\n",
              "      <td>NaN</td>\n",
              "    </tr>\n",
              "    <tr>\n",
              "      <th>1</th>\n",
              "      <td>BkPN0e</td>\n",
              "      <td>25-34 years old</td>\n",
              "      <td>NaN</td>\n",
              "      <td>NaN</td>\n",
              "      <td>Pod/capsule machine (e.g. Keurig/Nespresso)</td>\n",
              "      <td>NaN</td>\n",
              "      <td>NaN</td>\n",
              "      <td>NaN</td>\n",
              "      <td>Iced coffee</td>\n",
              "      <td>NaN</td>\n",
              "      <td>...</td>\n",
              "      <td>NaN</td>\n",
              "      <td>NaN</td>\n",
              "      <td>NaN</td>\n",
              "      <td>NaN</td>\n",
              "      <td>NaN</td>\n",
              "      <td>NaN</td>\n",
              "      <td>NaN</td>\n",
              "      <td>NaN</td>\n",
              "      <td>NaN</td>\n",
              "      <td>NaN</td>\n",
              "    </tr>\n",
              "    <tr>\n",
              "      <th>2</th>\n",
              "      <td>W5G8jj</td>\n",
              "      <td>25-34 years old</td>\n",
              "      <td>NaN</td>\n",
              "      <td>NaN</td>\n",
              "      <td>Bean-to-cup machine</td>\n",
              "      <td>NaN</td>\n",
              "      <td>NaN</td>\n",
              "      <td>NaN</td>\n",
              "      <td>Regular drip coffee</td>\n",
              "      <td>NaN</td>\n",
              "      <td>...</td>\n",
              "      <td>NaN</td>\n",
              "      <td>NaN</td>\n",
              "      <td>NaN</td>\n",
              "      <td>NaN</td>\n",
              "      <td>NaN</td>\n",
              "      <td>NaN</td>\n",
              "      <td>NaN</td>\n",
              "      <td>NaN</td>\n",
              "      <td>NaN</td>\n",
              "      <td>NaN</td>\n",
              "    </tr>\n",
              "    <tr>\n",
              "      <th>3</th>\n",
              "      <td>4xWgGr</td>\n",
              "      <td>35-44 years old</td>\n",
              "      <td>NaN</td>\n",
              "      <td>NaN</td>\n",
              "      <td>Coffee brewing machine (e.g. Mr. Coffee)</td>\n",
              "      <td>NaN</td>\n",
              "      <td>NaN</td>\n",
              "      <td>NaN</td>\n",
              "      <td>Iced coffee</td>\n",
              "      <td>NaN</td>\n",
              "      <td>...</td>\n",
              "      <td>NaN</td>\n",
              "      <td>NaN</td>\n",
              "      <td>NaN</td>\n",
              "      <td>NaN</td>\n",
              "      <td>NaN</td>\n",
              "      <td>NaN</td>\n",
              "      <td>NaN</td>\n",
              "      <td>NaN</td>\n",
              "      <td>NaN</td>\n",
              "      <td>NaN</td>\n",
              "    </tr>\n",
              "    <tr>\n",
              "      <th>4</th>\n",
              "      <td>QD27Q8</td>\n",
              "      <td>25-34 years old</td>\n",
              "      <td>NaN</td>\n",
              "      <td>NaN</td>\n",
              "      <td>Pour over</td>\n",
              "      <td>NaN</td>\n",
              "      <td>NaN</td>\n",
              "      <td>NaN</td>\n",
              "      <td>Latte</td>\n",
              "      <td>NaN</td>\n",
              "      <td>...</td>\n",
              "      <td>NaN</td>\n",
              "      <td>NaN</td>\n",
              "      <td>NaN</td>\n",
              "      <td>NaN</td>\n",
              "      <td>NaN</td>\n",
              "      <td>NaN</td>\n",
              "      <td>NaN</td>\n",
              "      <td>NaN</td>\n",
              "      <td>NaN</td>\n",
              "      <td>NaN</td>\n",
              "    </tr>\n",
              "  </tbody>\n",
              "</table>\n",
              "<p>5 rows × 57 columns</p>\n",
              "</div>\n",
              "    <div class=\"colab-df-buttons\">\n",
              "\n",
              "  <div class=\"colab-df-container\">\n",
              "    <button class=\"colab-df-convert\" onclick=\"convertToInteractive('df-6e047270-a64d-4a66-bf6a-5fee9282992c')\"\n",
              "            title=\"Convert this dataframe to an interactive table.\"\n",
              "            style=\"display:none;\">\n",
              "\n",
              "  <svg xmlns=\"http://www.w3.org/2000/svg\" height=\"24px\" viewBox=\"0 -960 960 960\">\n",
              "    <path d=\"M120-120v-720h720v720H120Zm60-500h600v-160H180v160Zm220 220h160v-160H400v160Zm0 220h160v-160H400v160ZM180-400h160v-160H180v160Zm440 0h160v-160H620v160ZM180-180h160v-160H180v160Zm440 0h160v-160H620v160Z\"/>\n",
              "  </svg>\n",
              "    </button>\n",
              "\n",
              "  <style>\n",
              "    .colab-df-container {\n",
              "      display:flex;\n",
              "      gap: 12px;\n",
              "    }\n",
              "\n",
              "    .colab-df-convert {\n",
              "      background-color: #E8F0FE;\n",
              "      border: none;\n",
              "      border-radius: 50%;\n",
              "      cursor: pointer;\n",
              "      display: none;\n",
              "      fill: #1967D2;\n",
              "      height: 32px;\n",
              "      padding: 0 0 0 0;\n",
              "      width: 32px;\n",
              "    }\n",
              "\n",
              "    .colab-df-convert:hover {\n",
              "      background-color: #E2EBFA;\n",
              "      box-shadow: 0px 1px 2px rgba(60, 64, 67, 0.3), 0px 1px 3px 1px rgba(60, 64, 67, 0.15);\n",
              "      fill: #174EA6;\n",
              "    }\n",
              "\n",
              "    .colab-df-buttons div {\n",
              "      margin-bottom: 4px;\n",
              "    }\n",
              "\n",
              "    [theme=dark] .colab-df-convert {\n",
              "      background-color: #3B4455;\n",
              "      fill: #D2E3FC;\n",
              "    }\n",
              "\n",
              "    [theme=dark] .colab-df-convert:hover {\n",
              "      background-color: #434B5C;\n",
              "      box-shadow: 0px 1px 3px 1px rgba(0, 0, 0, 0.15);\n",
              "      filter: drop-shadow(0px 1px 2px rgba(0, 0, 0, 0.3));\n",
              "      fill: #FFFFFF;\n",
              "    }\n",
              "  </style>\n",
              "\n",
              "    <script>\n",
              "      const buttonEl =\n",
              "        document.querySelector('#df-6e047270-a64d-4a66-bf6a-5fee9282992c button.colab-df-convert');\n",
              "      buttonEl.style.display =\n",
              "        google.colab.kernel.accessAllowed ? 'block' : 'none';\n",
              "\n",
              "      async function convertToInteractive(key) {\n",
              "        const element = document.querySelector('#df-6e047270-a64d-4a66-bf6a-5fee9282992c');\n",
              "        const dataTable =\n",
              "          await google.colab.kernel.invokeFunction('convertToInteractive',\n",
              "                                                    [key], {});\n",
              "        if (!dataTable) return;\n",
              "\n",
              "        const docLinkHtml = 'Like what you see? Visit the ' +\n",
              "          '<a target=\"_blank\" href=https://colab.research.google.com/notebooks/data_table.ipynb>data table notebook</a>'\n",
              "          + ' to learn more about interactive tables.';\n",
              "        element.innerHTML = '';\n",
              "        dataTable['output_type'] = 'display_data';\n",
              "        await google.colab.output.renderOutput(dataTable, element);\n",
              "        const docLink = document.createElement('div');\n",
              "        docLink.innerHTML = docLinkHtml;\n",
              "        element.appendChild(docLink);\n",
              "      }\n",
              "    </script>\n",
              "  </div>\n",
              "\n",
              "\n",
              "<div id=\"df-e9aa568d-e400-4892-b79b-f01d8f4aba0d\">\n",
              "  <button class=\"colab-df-quickchart\" onclick=\"quickchart('df-e9aa568d-e400-4892-b79b-f01d8f4aba0d')\"\n",
              "            title=\"Suggest charts\"\n",
              "            style=\"display:none;\">\n",
              "\n",
              "<svg xmlns=\"http://www.w3.org/2000/svg\" height=\"24px\"viewBox=\"0 0 24 24\"\n",
              "     width=\"24px\">\n",
              "    <g>\n",
              "        <path d=\"M19 3H5c-1.1 0-2 .9-2 2v14c0 1.1.9 2 2 2h14c1.1 0 2-.9 2-2V5c0-1.1-.9-2-2-2zM9 17H7v-7h2v7zm4 0h-2V7h2v10zm4 0h-2v-4h2v4z\"/>\n",
              "    </g>\n",
              "</svg>\n",
              "  </button>\n",
              "\n",
              "<style>\n",
              "  .colab-df-quickchart {\n",
              "      --bg-color: #E8F0FE;\n",
              "      --fill-color: #1967D2;\n",
              "      --hover-bg-color: #E2EBFA;\n",
              "      --hover-fill-color: #174EA6;\n",
              "      --disabled-fill-color: #AAA;\n",
              "      --disabled-bg-color: #DDD;\n",
              "  }\n",
              "\n",
              "  [theme=dark] .colab-df-quickchart {\n",
              "      --bg-color: #3B4455;\n",
              "      --fill-color: #D2E3FC;\n",
              "      --hover-bg-color: #434B5C;\n",
              "      --hover-fill-color: #FFFFFF;\n",
              "      --disabled-bg-color: #3B4455;\n",
              "      --disabled-fill-color: #666;\n",
              "  }\n",
              "\n",
              "  .colab-df-quickchart {\n",
              "    background-color: var(--bg-color);\n",
              "    border: none;\n",
              "    border-radius: 50%;\n",
              "    cursor: pointer;\n",
              "    display: none;\n",
              "    fill: var(--fill-color);\n",
              "    height: 32px;\n",
              "    padding: 0;\n",
              "    width: 32px;\n",
              "  }\n",
              "\n",
              "  .colab-df-quickchart:hover {\n",
              "    background-color: var(--hover-bg-color);\n",
              "    box-shadow: 0 1px 2px rgba(60, 64, 67, 0.3), 0 1px 3px 1px rgba(60, 64, 67, 0.15);\n",
              "    fill: var(--button-hover-fill-color);\n",
              "  }\n",
              "\n",
              "  .colab-df-quickchart-complete:disabled,\n",
              "  .colab-df-quickchart-complete:disabled:hover {\n",
              "    background-color: var(--disabled-bg-color);\n",
              "    fill: var(--disabled-fill-color);\n",
              "    box-shadow: none;\n",
              "  }\n",
              "\n",
              "  .colab-df-spinner {\n",
              "    border: 2px solid var(--fill-color);\n",
              "    border-color: transparent;\n",
              "    border-bottom-color: var(--fill-color);\n",
              "    animation:\n",
              "      spin 1s steps(1) infinite;\n",
              "  }\n",
              "\n",
              "  @keyframes spin {\n",
              "    0% {\n",
              "      border-color: transparent;\n",
              "      border-bottom-color: var(--fill-color);\n",
              "      border-left-color: var(--fill-color);\n",
              "    }\n",
              "    20% {\n",
              "      border-color: transparent;\n",
              "      border-left-color: var(--fill-color);\n",
              "      border-top-color: var(--fill-color);\n",
              "    }\n",
              "    30% {\n",
              "      border-color: transparent;\n",
              "      border-left-color: var(--fill-color);\n",
              "      border-top-color: var(--fill-color);\n",
              "      border-right-color: var(--fill-color);\n",
              "    }\n",
              "    40% {\n",
              "      border-color: transparent;\n",
              "      border-right-color: var(--fill-color);\n",
              "      border-top-color: var(--fill-color);\n",
              "    }\n",
              "    60% {\n",
              "      border-color: transparent;\n",
              "      border-right-color: var(--fill-color);\n",
              "    }\n",
              "    80% {\n",
              "      border-color: transparent;\n",
              "      border-right-color: var(--fill-color);\n",
              "      border-bottom-color: var(--fill-color);\n",
              "    }\n",
              "    90% {\n",
              "      border-color: transparent;\n",
              "      border-bottom-color: var(--fill-color);\n",
              "    }\n",
              "  }\n",
              "</style>\n",
              "\n",
              "  <script>\n",
              "    async function quickchart(key) {\n",
              "      const quickchartButtonEl =\n",
              "        document.querySelector('#' + key + ' button');\n",
              "      quickchartButtonEl.disabled = true;  // To prevent multiple clicks.\n",
              "      quickchartButtonEl.classList.add('colab-df-spinner');\n",
              "      try {\n",
              "        const charts = await google.colab.kernel.invokeFunction(\n",
              "            'suggestCharts', [key], {});\n",
              "      } catch (error) {\n",
              "        console.error('Error during call to suggestCharts:', error);\n",
              "      }\n",
              "      quickchartButtonEl.classList.remove('colab-df-spinner');\n",
              "      quickchartButtonEl.classList.add('colab-df-quickchart-complete');\n",
              "    }\n",
              "    (() => {\n",
              "      let quickchartButtonEl =\n",
              "        document.querySelector('#df-e9aa568d-e400-4892-b79b-f01d8f4aba0d button');\n",
              "      quickchartButtonEl.style.display =\n",
              "        google.colab.kernel.accessAllowed ? 'block' : 'none';\n",
              "    })();\n",
              "  </script>\n",
              "</div>\n",
              "\n",
              "    </div>\n",
              "  </div>\n"
            ],
            "application/vnd.google.colaboratory.intrinsic+json": {
              "type": "dataframe",
              "variable_name": "df"
            }
          },
          "metadata": {},
          "execution_count": 3
        }
      ]
    },
    {
      "cell_type": "markdown",
      "source": [
        "#Data Cleaning"
      ],
      "metadata": {
        "id": "8bOYuPC5koOI"
      }
    },
    {
      "cell_type": "code",
      "source": [
        "df.info()"
      ],
      "metadata": {
        "colab": {
          "base_uri": "https://localhost:8080/"
        },
        "id": "HSoiN3rCfR-y",
        "outputId": "9590729a-0c52-4024-acc1-2c76067f8f6c"
      },
      "execution_count": 4,
      "outputs": [
        {
          "output_type": "stream",
          "name": "stdout",
          "text": [
            "<class 'pandas.core.frame.DataFrame'>\n",
            "RangeIndex: 4042 entries, 0 to 4041\n",
            "Data columns (total 57 columns):\n",
            " #   Column                        Non-Null Count  Dtype  \n",
            "---  ------                        --------------  -----  \n",
            " 0   submission_id                 4042 non-null   object \n",
            " 1   age                           4011 non-null   object \n",
            " 2   cups                          3949 non-null   object \n",
            " 3   where_drink                   3972 non-null   object \n",
            " 4   brew                          3657 non-null   object \n",
            " 5   brew_other                    678 non-null    object \n",
            " 6   purchase                      710 non-null    object \n",
            " 7   purchase_other                31 non-null     object \n",
            " 8   favorite                      3980 non-null   object \n",
            " 9   favorite_specify              114 non-null    object \n",
            " 10  additions                     3959 non-null   object \n",
            " 11  additions_other               48 non-null     object \n",
            " 12  dairy                         1686 non-null   object \n",
            " 13  sweetener                     512 non-null    object \n",
            " 14  style                         3958 non-null   object \n",
            " 15  strength                      3916 non-null   object \n",
            " 16  roast_level                   3940 non-null   object \n",
            " 17  caffeine                      3917 non-null   object \n",
            " 18  expertise                     3938 non-null   float64\n",
            " 19  coffee_a_bitterness           3798 non-null   float64\n",
            " 20  coffee_a_acidity              3779 non-null   float64\n",
            " 21  coffee_a_personal_preference  3789 non-null   float64\n",
            " 22  coffee_a_notes                2578 non-null   object \n",
            " 23  coffee_b_bitterness           3780 non-null   float64\n",
            " 24  coffee_b_acidity              3767 non-null   float64\n",
            " 25  coffee_b_personal_preference  3773 non-null   float64\n",
            " 26  coffee_b_notes                2454 non-null   object \n",
            " 27  coffee_c_bitterness           3764 non-null   float64\n",
            " 28  coffee_c_acidity              3751 non-null   float64\n",
            " 29  coffee_c_personal_preference  3766 non-null   float64\n",
            " 30  coffee_c_notes                2382 non-null   object \n",
            " 31  coffee_d_bitterness           3767 non-null   float64\n",
            " 32  coffee_d_acidity              3765 non-null   float64\n",
            " 33  coffee_d_personal_preference  3764 non-null   float64\n",
            " 34  coffee_d_notes                2588 non-null   object \n",
            " 35  prefer_abc                    3772 non-null   object \n",
            " 36  prefer_ad                     3761 non-null   object \n",
            " 37  prefer_overall                3770 non-null   object \n",
            " 38  wfh                           3524 non-null   object \n",
            " 39  total_spend                   3511 non-null   object \n",
            " 40  why_drink                     3568 non-null   object \n",
            " 41  why_drink_other               167 non-null    object \n",
            " 42  taste                         3563 non-null   object \n",
            " 43  know_source                   3559 non-null   object \n",
            " 44  most_paid                     3527 non-null   object \n",
            " 45  most_willing                  3510 non-null   object \n",
            " 46  value_cafe                    3500 non-null   object \n",
            " 47  spent_equipment               3506 non-null   object \n",
            " 48  value_equipment               3494 non-null   object \n",
            " 49  gender                        3523 non-null   object \n",
            " 50  gender_specify                12 non-null     object \n",
            " 51  education_level               3438 non-null   object \n",
            " 52  ethnicity_race                3418 non-null   object \n",
            " 53  ethnicity_race_specify        105 non-null    object \n",
            " 54  employment_status             3419 non-null   object \n",
            " 55  number_children               856 non-null    object \n",
            " 56  political_affiliation         3289 non-null   object \n",
            "dtypes: float64(13), object(44)\n",
            "memory usage: 1.8+ MB\n"
          ]
        }
      ]
    },
    {
      "cell_type": "code",
      "source": [
        "df.isna().sum()"
      ],
      "metadata": {
        "colab": {
          "base_uri": "https://localhost:8080/",
          "height": 1000
        },
        "id": "FS4fonIRevSd",
        "outputId": "bd4f9ce4-c559-4bb0-a229-ad1f65c7d077"
      },
      "execution_count": 5,
      "outputs": [
        {
          "output_type": "execute_result",
          "data": {
            "text/plain": [
              "submission_id                      0\n",
              "age                               31\n",
              "cups                              93\n",
              "where_drink                       70\n",
              "brew                             385\n",
              "brew_other                      3364\n",
              "purchase                        3332\n",
              "purchase_other                  4011\n",
              "favorite                          62\n",
              "favorite_specify                3928\n",
              "additions                         83\n",
              "additions_other                 3994\n",
              "dairy                           2356\n",
              "sweetener                       3530\n",
              "style                             84\n",
              "strength                         126\n",
              "roast_level                      102\n",
              "caffeine                         125\n",
              "expertise                        104\n",
              "coffee_a_bitterness              244\n",
              "coffee_a_acidity                 263\n",
              "coffee_a_personal_preference     253\n",
              "coffee_a_notes                  1464\n",
              "coffee_b_bitterness              262\n",
              "coffee_b_acidity                 275\n",
              "coffee_b_personal_preference     269\n",
              "coffee_b_notes                  1588\n",
              "coffee_c_bitterness              278\n",
              "coffee_c_acidity                 291\n",
              "coffee_c_personal_preference     276\n",
              "coffee_c_notes                  1660\n",
              "coffee_d_bitterness              275\n",
              "coffee_d_acidity                 277\n",
              "coffee_d_personal_preference     278\n",
              "coffee_d_notes                  1454\n",
              "prefer_abc                       270\n",
              "prefer_ad                        281\n",
              "prefer_overall                   272\n",
              "wfh                              518\n",
              "total_spend                      531\n",
              "why_drink                        474\n",
              "why_drink_other                 3875\n",
              "taste                            479\n",
              "know_source                      483\n",
              "most_paid                        515\n",
              "most_willing                     532\n",
              "value_cafe                       542\n",
              "spent_equipment                  536\n",
              "value_equipment                  548\n",
              "gender                           519\n",
              "gender_specify                  4030\n",
              "education_level                  604\n",
              "ethnicity_race                   624\n",
              "ethnicity_race_specify          3937\n",
              "employment_status                623\n",
              "number_children                 3186\n",
              "political_affiliation            753\n",
              "dtype: int64"
            ],
            "text/html": [
              "<div>\n",
              "<style scoped>\n",
              "    .dataframe tbody tr th:only-of-type {\n",
              "        vertical-align: middle;\n",
              "    }\n",
              "\n",
              "    .dataframe tbody tr th {\n",
              "        vertical-align: top;\n",
              "    }\n",
              "\n",
              "    .dataframe thead th {\n",
              "        text-align: right;\n",
              "    }\n",
              "</style>\n",
              "<table border=\"1\" class=\"dataframe\">\n",
              "  <thead>\n",
              "    <tr style=\"text-align: right;\">\n",
              "      <th></th>\n",
              "      <th>0</th>\n",
              "    </tr>\n",
              "  </thead>\n",
              "  <tbody>\n",
              "    <tr>\n",
              "      <th>submission_id</th>\n",
              "      <td>0</td>\n",
              "    </tr>\n",
              "    <tr>\n",
              "      <th>age</th>\n",
              "      <td>31</td>\n",
              "    </tr>\n",
              "    <tr>\n",
              "      <th>cups</th>\n",
              "      <td>93</td>\n",
              "    </tr>\n",
              "    <tr>\n",
              "      <th>where_drink</th>\n",
              "      <td>70</td>\n",
              "    </tr>\n",
              "    <tr>\n",
              "      <th>brew</th>\n",
              "      <td>385</td>\n",
              "    </tr>\n",
              "    <tr>\n",
              "      <th>brew_other</th>\n",
              "      <td>3364</td>\n",
              "    </tr>\n",
              "    <tr>\n",
              "      <th>purchase</th>\n",
              "      <td>3332</td>\n",
              "    </tr>\n",
              "    <tr>\n",
              "      <th>purchase_other</th>\n",
              "      <td>4011</td>\n",
              "    </tr>\n",
              "    <tr>\n",
              "      <th>favorite</th>\n",
              "      <td>62</td>\n",
              "    </tr>\n",
              "    <tr>\n",
              "      <th>favorite_specify</th>\n",
              "      <td>3928</td>\n",
              "    </tr>\n",
              "    <tr>\n",
              "      <th>additions</th>\n",
              "      <td>83</td>\n",
              "    </tr>\n",
              "    <tr>\n",
              "      <th>additions_other</th>\n",
              "      <td>3994</td>\n",
              "    </tr>\n",
              "    <tr>\n",
              "      <th>dairy</th>\n",
              "      <td>2356</td>\n",
              "    </tr>\n",
              "    <tr>\n",
              "      <th>sweetener</th>\n",
              "      <td>3530</td>\n",
              "    </tr>\n",
              "    <tr>\n",
              "      <th>style</th>\n",
              "      <td>84</td>\n",
              "    </tr>\n",
              "    <tr>\n",
              "      <th>strength</th>\n",
              "      <td>126</td>\n",
              "    </tr>\n",
              "    <tr>\n",
              "      <th>roast_level</th>\n",
              "      <td>102</td>\n",
              "    </tr>\n",
              "    <tr>\n",
              "      <th>caffeine</th>\n",
              "      <td>125</td>\n",
              "    </tr>\n",
              "    <tr>\n",
              "      <th>expertise</th>\n",
              "      <td>104</td>\n",
              "    </tr>\n",
              "    <tr>\n",
              "      <th>coffee_a_bitterness</th>\n",
              "      <td>244</td>\n",
              "    </tr>\n",
              "    <tr>\n",
              "      <th>coffee_a_acidity</th>\n",
              "      <td>263</td>\n",
              "    </tr>\n",
              "    <tr>\n",
              "      <th>coffee_a_personal_preference</th>\n",
              "      <td>253</td>\n",
              "    </tr>\n",
              "    <tr>\n",
              "      <th>coffee_a_notes</th>\n",
              "      <td>1464</td>\n",
              "    </tr>\n",
              "    <tr>\n",
              "      <th>coffee_b_bitterness</th>\n",
              "      <td>262</td>\n",
              "    </tr>\n",
              "    <tr>\n",
              "      <th>coffee_b_acidity</th>\n",
              "      <td>275</td>\n",
              "    </tr>\n",
              "    <tr>\n",
              "      <th>coffee_b_personal_preference</th>\n",
              "      <td>269</td>\n",
              "    </tr>\n",
              "    <tr>\n",
              "      <th>coffee_b_notes</th>\n",
              "      <td>1588</td>\n",
              "    </tr>\n",
              "    <tr>\n",
              "      <th>coffee_c_bitterness</th>\n",
              "      <td>278</td>\n",
              "    </tr>\n",
              "    <tr>\n",
              "      <th>coffee_c_acidity</th>\n",
              "      <td>291</td>\n",
              "    </tr>\n",
              "    <tr>\n",
              "      <th>coffee_c_personal_preference</th>\n",
              "      <td>276</td>\n",
              "    </tr>\n",
              "    <tr>\n",
              "      <th>coffee_c_notes</th>\n",
              "      <td>1660</td>\n",
              "    </tr>\n",
              "    <tr>\n",
              "      <th>coffee_d_bitterness</th>\n",
              "      <td>275</td>\n",
              "    </tr>\n",
              "    <tr>\n",
              "      <th>coffee_d_acidity</th>\n",
              "      <td>277</td>\n",
              "    </tr>\n",
              "    <tr>\n",
              "      <th>coffee_d_personal_preference</th>\n",
              "      <td>278</td>\n",
              "    </tr>\n",
              "    <tr>\n",
              "      <th>coffee_d_notes</th>\n",
              "      <td>1454</td>\n",
              "    </tr>\n",
              "    <tr>\n",
              "      <th>prefer_abc</th>\n",
              "      <td>270</td>\n",
              "    </tr>\n",
              "    <tr>\n",
              "      <th>prefer_ad</th>\n",
              "      <td>281</td>\n",
              "    </tr>\n",
              "    <tr>\n",
              "      <th>prefer_overall</th>\n",
              "      <td>272</td>\n",
              "    </tr>\n",
              "    <tr>\n",
              "      <th>wfh</th>\n",
              "      <td>518</td>\n",
              "    </tr>\n",
              "    <tr>\n",
              "      <th>total_spend</th>\n",
              "      <td>531</td>\n",
              "    </tr>\n",
              "    <tr>\n",
              "      <th>why_drink</th>\n",
              "      <td>474</td>\n",
              "    </tr>\n",
              "    <tr>\n",
              "      <th>why_drink_other</th>\n",
              "      <td>3875</td>\n",
              "    </tr>\n",
              "    <tr>\n",
              "      <th>taste</th>\n",
              "      <td>479</td>\n",
              "    </tr>\n",
              "    <tr>\n",
              "      <th>know_source</th>\n",
              "      <td>483</td>\n",
              "    </tr>\n",
              "    <tr>\n",
              "      <th>most_paid</th>\n",
              "      <td>515</td>\n",
              "    </tr>\n",
              "    <tr>\n",
              "      <th>most_willing</th>\n",
              "      <td>532</td>\n",
              "    </tr>\n",
              "    <tr>\n",
              "      <th>value_cafe</th>\n",
              "      <td>542</td>\n",
              "    </tr>\n",
              "    <tr>\n",
              "      <th>spent_equipment</th>\n",
              "      <td>536</td>\n",
              "    </tr>\n",
              "    <tr>\n",
              "      <th>value_equipment</th>\n",
              "      <td>548</td>\n",
              "    </tr>\n",
              "    <tr>\n",
              "      <th>gender</th>\n",
              "      <td>519</td>\n",
              "    </tr>\n",
              "    <tr>\n",
              "      <th>gender_specify</th>\n",
              "      <td>4030</td>\n",
              "    </tr>\n",
              "    <tr>\n",
              "      <th>education_level</th>\n",
              "      <td>604</td>\n",
              "    </tr>\n",
              "    <tr>\n",
              "      <th>ethnicity_race</th>\n",
              "      <td>624</td>\n",
              "    </tr>\n",
              "    <tr>\n",
              "      <th>ethnicity_race_specify</th>\n",
              "      <td>3937</td>\n",
              "    </tr>\n",
              "    <tr>\n",
              "      <th>employment_status</th>\n",
              "      <td>623</td>\n",
              "    </tr>\n",
              "    <tr>\n",
              "      <th>number_children</th>\n",
              "      <td>3186</td>\n",
              "    </tr>\n",
              "    <tr>\n",
              "      <th>political_affiliation</th>\n",
              "      <td>753</td>\n",
              "    </tr>\n",
              "  </tbody>\n",
              "</table>\n",
              "</div><br><label><b>dtype:</b> int64</label>"
            ]
          },
          "metadata": {},
          "execution_count": 5
        }
      ]
    },
    {
      "cell_type": "code",
      "source": [
        "#Remove rows with missing values in critical columns\n",
        "critical_columns = ['submission_id', 'age', 'cups', 'favorite']\n",
        "df.dropna(subset=critical_columns, inplace=True)\n"
      ],
      "metadata": {
        "id": "3nRX47lOjwRN"
      },
      "execution_count": 6,
      "outputs": []
    },
    {
      "cell_type": "code",
      "source": [
        "#Fill missing categorical values with 'Unknown' or 'Not Specified'\n",
        "df.fillna({\n",
        "    'brew': 'Not Specified',\n",
        "    'purchase': 'Unknown',\n",
        "    'dairy': 'None',\n",
        "    'sweetener': 'None'\n",
        "}, inplace=True)\n"
      ],
      "metadata": {
        "id": "imFiagcwj7XD"
      },
      "execution_count": 7,
      "outputs": []
    },
    {
      "cell_type": "code",
      "source": [
        "# Convert categorical columns to category data type\n",
        "categorical_cols = [\n",
        "    'age', 'where_drink', 'brew', 'purchase', 'favorite',\n",
        "    'additions', 'style', 'strength', 'roast_level', 'caffeine',\n",
        "    'wfh', 'total_spend', 'taste', 'know_source',\n",
        "    'most_paid', 'most_willing', 'value_cafe', 'spent_equipment',\n",
        "    'value_equipment', 'gender', 'education_level', 'ethnicity_race',\n",
        "    'employment_status', 'number_children', 'political_affiliation'\n",
        "]\n",
        "df[categorical_cols] = df[categorical_cols].astype('category')\n"
      ],
      "metadata": {
        "id": "qUYjtCKnkD2m"
      },
      "execution_count": 8,
      "outputs": []
    },
    {
      "cell_type": "code",
      "source": [
        "#Split 'where_drink' into separate binary columns\n",
        "df_split = df.join(df['where_drink'].str.get_dummies(sep=', '))\n",
        "\n",
        "#Split 'brew' into separate binary columns\n",
        "df_split = df.join(df['brew'].str.get_dummies(sep=', '))\n",
        "\n",
        "\n"
      ],
      "metadata": {
        "id": "PDdhn6SGkLjJ"
      },
      "execution_count": 9,
      "outputs": []
    },
    {
      "cell_type": "code",
      "source": [
        "# Remove duplicates\n",
        "df.drop_duplicates(inplace=True)"
      ],
      "metadata": {
        "id": "WCLrpiADlUV2"
      },
      "execution_count": 10,
      "outputs": []
    },
    {
      "cell_type": "markdown",
      "source": [
        "#Market Research"
      ],
      "metadata": {
        "id": "L5QZ4mDYqLrq"
      }
    },
    {
      "cell_type": "markdown",
      "source": [
        "##1. Demographic Segmentation"
      ],
      "metadata": {
        "id": "t39GGmbxqsa6"
      }
    },
    {
      "cell_type": "markdown",
      "source": [
        "####a.Age"
      ],
      "metadata": {
        "id": "U9excv09qwGq"
      }
    },
    {
      "cell_type": "code",
      "source": [
        "df['age'].value_counts()"
      ],
      "metadata": {
        "colab": {
          "base_uri": "https://localhost:8080/",
          "height": 335
        },
        "id": "5sgCWAIGqbRJ",
        "outputId": "c452db9c-049a-4090-8f36-138040bc08a8"
      },
      "execution_count": null,
      "outputs": [
        {
          "output_type": "execute_result",
          "data": {
            "text/plain": [
              "age\n",
              "25-34 years old    1947\n",
              "35-44 years old     944\n",
              "18-24 years old     443\n",
              "45-54 years old     296\n",
              "55-64 years old     181\n",
              ">65 years old        93\n",
              "<18 years old        18\n",
              "Name: count, dtype: int64"
            ],
            "text/html": [
              "<div>\n",
              "<style scoped>\n",
              "    .dataframe tbody tr th:only-of-type {\n",
              "        vertical-align: middle;\n",
              "    }\n",
              "\n",
              "    .dataframe tbody tr th {\n",
              "        vertical-align: top;\n",
              "    }\n",
              "\n",
              "    .dataframe thead th {\n",
              "        text-align: right;\n",
              "    }\n",
              "</style>\n",
              "<table border=\"1\" class=\"dataframe\">\n",
              "  <thead>\n",
              "    <tr style=\"text-align: right;\">\n",
              "      <th></th>\n",
              "      <th>count</th>\n",
              "    </tr>\n",
              "    <tr>\n",
              "      <th>age</th>\n",
              "      <th></th>\n",
              "    </tr>\n",
              "  </thead>\n",
              "  <tbody>\n",
              "    <tr>\n",
              "      <th>25-34 years old</th>\n",
              "      <td>1947</td>\n",
              "    </tr>\n",
              "    <tr>\n",
              "      <th>35-44 years old</th>\n",
              "      <td>944</td>\n",
              "    </tr>\n",
              "    <tr>\n",
              "      <th>18-24 years old</th>\n",
              "      <td>443</td>\n",
              "    </tr>\n",
              "    <tr>\n",
              "      <th>45-54 years old</th>\n",
              "      <td>296</td>\n",
              "    </tr>\n",
              "    <tr>\n",
              "      <th>55-64 years old</th>\n",
              "      <td>181</td>\n",
              "    </tr>\n",
              "    <tr>\n",
              "      <th>&gt;65 years old</th>\n",
              "      <td>93</td>\n",
              "    </tr>\n",
              "    <tr>\n",
              "      <th>&lt;18 years old</th>\n",
              "      <td>18</td>\n",
              "    </tr>\n",
              "  </tbody>\n",
              "</table>\n",
              "</div><br><label><b>dtype:</b> int64</label>"
            ]
          },
          "metadata": {},
          "execution_count": 68
        }
      ]
    },
    {
      "cell_type": "code",
      "source": [
        "df['age'].value_counts().plot(kind='pie', autopct='%1.1f%%')\n",
        "plt.title('Age Distribution')\n",
        "plt.ylabel('')\n",
        "plt.show()"
      ],
      "metadata": {
        "colab": {
          "base_uri": "https://localhost:8080/",
          "height": 428
        },
        "id": "0q981fc1rioy",
        "outputId": "2fb4debb-28ab-4235-c201-b4bed8bdf6ee"
      },
      "execution_count": null,
      "outputs": [
        {
          "output_type": "display_data",
          "data": {
            "text/plain": [
              "<Figure size 640x480 with 1 Axes>"
            ],
            "image/png": "[encoded data removed]"
          },
          "metadata": {}
        }
      ]
    },
    {
      "cell_type": "markdown",
      "source": [
        "####b. Gender"
      ],
      "metadata": {
        "id": "o7Juv5x7sZ2f"
      }
    },
    {
      "cell_type": "code",
      "source": [
        "df['gender'].value_counts()"
      ],
      "metadata": {
        "colab": {
          "base_uri": "https://localhost:8080/",
          "height": 272
        },
        "id": "w3fnIsu0sd12",
        "outputId": "f4daa7d5-60c6-491a-9185-f25c12436721"
      },
      "execution_count": null,
      "outputs": [
        {
          "output_type": "execute_result",
          "data": {
            "text/plain": [
              "gender\n",
              "Male                      2524\n",
              "Female                     853\n",
              "Non-binary                 103\n",
              "Prefer not to say           33\n",
              "Other (please specify)      10\n",
              "Name: count, dtype: int64"
            ],
            "text/html": [
              "<div>\n",
              "<style scoped>\n",
              "    .dataframe tbody tr th:only-of-type {\n",
              "        vertical-align: middle;\n",
              "    }\n",
              "\n",
              "    .dataframe tbody tr th {\n",
              "        vertical-align: top;\n",
              "    }\n",
              "\n",
              "    .dataframe thead th {\n",
              "        text-align: right;\n",
              "    }\n",
              "</style>\n",
              "<table border=\"1\" class=\"dataframe\">\n",
              "  <thead>\n",
              "    <tr style=\"text-align: right;\">\n",
              "      <th></th>\n",
              "      <th>count</th>\n",
              "    </tr>\n",
              "    <tr>\n",
              "      <th>gender</th>\n",
              "      <th></th>\n",
              "    </tr>\n",
              "  </thead>\n",
              "  <tbody>\n",
              "    <tr>\n",
              "      <th>Male</th>\n",
              "      <td>2524</td>\n",
              "    </tr>\n",
              "    <tr>\n",
              "      <th>Female</th>\n",
              "      <td>853</td>\n",
              "    </tr>\n",
              "    <tr>\n",
              "      <th>Non-binary</th>\n",
              "      <td>103</td>\n",
              "    </tr>\n",
              "    <tr>\n",
              "      <th>Prefer not to say</th>\n",
              "      <td>33</td>\n",
              "    </tr>\n",
              "    <tr>\n",
              "      <th>Other (please specify)</th>\n",
              "      <td>10</td>\n",
              "    </tr>\n",
              "  </tbody>\n",
              "</table>\n",
              "</div><br><label><b>dtype:</b> int64</label>"
            ]
          },
          "metadata": {},
          "execution_count": 71
        }
      ]
    },
    {
      "cell_type": "code",
      "source": [
        "df['gender'].value_counts().plot(kind='pie', autopct='%1.1f%%')\n",
        "plt.title('Gender Distribution')\n",
        "plt.ylabel('')\n",
        "plt.show()"
      ],
      "metadata": {
        "colab": {
          "base_uri": "https://localhost:8080/",
          "height": 428
        },
        "id": "7vgqOV2wshXp",
        "outputId": "4b74e83b-f3a3-4b3d-8234-fb3727d7f634"
      },
      "execution_count": null,
      "outputs": [
        {
          "output_type": "display_data",
          "data": {
            "text/plain": [
              "<Figure size 640x480 with 1 Axes>"
            ],
            "image/png": "[encoded data removed]"
          },
          "metadata": {}
        }
      ]
    },
    {
      "cell_type": "markdown",
      "source": [
        "####c. Education Level"
      ],
      "metadata": {
        "id": "D2yXZPiEsmTY"
      }
    },
    {
      "cell_type": "code",
      "source": [
        "df['education_level'].value_counts()"
      ],
      "metadata": {
        "colab": {
          "base_uri": "https://localhost:8080/",
          "height": 303
        },
        "id": "mOklk4bdspGA",
        "outputId": "91ab7693-f56c-482a-f410-b6ff9e099caa"
      },
      "execution_count": null,
      "outputs": [
        {
          "output_type": "execute_result",
          "data": {
            "text/plain": [
              "education_level\n",
              "Bachelor's degree                     1759\n",
              "Master's degree                        738\n",
              "Some college or associate's degree     461\n",
              "Doctorate or professional degree       340\n",
              "High school graduate                   118\n",
              "Less than high school                   22\n",
              "Name: count, dtype: int64"
            ],
            "text/html": [
              "<div>\n",
              "<style scoped>\n",
              "    .dataframe tbody tr th:only-of-type {\n",
              "        vertical-align: middle;\n",
              "    }\n",
              "\n",
              "    .dataframe tbody tr th {\n",
              "        vertical-align: top;\n",
              "    }\n",
              "\n",
              "    .dataframe thead th {\n",
              "        text-align: right;\n",
              "    }\n",
              "</style>\n",
              "<table border=\"1\" class=\"dataframe\">\n",
              "  <thead>\n",
              "    <tr style=\"text-align: right;\">\n",
              "      <th></th>\n",
              "      <th>count</th>\n",
              "    </tr>\n",
              "    <tr>\n",
              "      <th>education_level</th>\n",
              "      <th></th>\n",
              "    </tr>\n",
              "  </thead>\n",
              "  <tbody>\n",
              "    <tr>\n",
              "      <th>Bachelor's degree</th>\n",
              "      <td>1759</td>\n",
              "    </tr>\n",
              "    <tr>\n",
              "      <th>Master's degree</th>\n",
              "      <td>738</td>\n",
              "    </tr>\n",
              "    <tr>\n",
              "      <th>Some college or associate's degree</th>\n",
              "      <td>461</td>\n",
              "    </tr>\n",
              "    <tr>\n",
              "      <th>Doctorate or professional degree</th>\n",
              "      <td>340</td>\n",
              "    </tr>\n",
              "    <tr>\n",
              "      <th>High school graduate</th>\n",
              "      <td>118</td>\n",
              "    </tr>\n",
              "    <tr>\n",
              "      <th>Less than high school</th>\n",
              "      <td>22</td>\n",
              "    </tr>\n",
              "  </tbody>\n",
              "</table>\n",
              "</div><br><label><b>dtype:</b> int64</label>"
            ]
          },
          "metadata": {},
          "execution_count": 73
        }
      ]
    },
    {
      "cell_type": "code",
      "source": [
        "df['education_level'].value_counts().plot(kind='pie', autopct='%1.1f%%')\n",
        "plt.title('Education Level Distribution')\n",
        "plt.ylabel('')\n",
        "plt.show()"
      ],
      "metadata": {
        "colab": {
          "base_uri": "https://localhost:8080/",
          "height": 428
        },
        "id": "Mhmgy5Uxsrqx",
        "outputId": "0a1008ef-4997-4887-f9f4-df1968f4773d"
      },
      "execution_count": null,
      "outputs": [
        {
          "output_type": "display_data",
          "data": {
            "text/plain": [
              "<Figure size 640x480 with 1 Axes>"
            ],
            "image/png": "[encoded data removed]"
          },
          "metadata": {}
        }
      ]
    },
    {
      "cell_type": "markdown",
      "source": [
        "####d. Employment Status"
      ],
      "metadata": {
        "id": "iZCLWJKzsxHO"
      }
    },
    {
      "cell_type": "code",
      "source": [
        "df['employment_status'].value_counts()"
      ],
      "metadata": {
        "colab": {
          "base_uri": "https://localhost:8080/",
          "height": 303
        },
        "id": "ySFCC4_qszDo",
        "outputId": "267dbea2-b456-401a-b2e2-ebb578d71b91"
      },
      "execution_count": null,
      "outputs": [
        {
          "output_type": "execute_result",
          "data": {
            "text/plain": [
              "employment_status\n",
              "Employed full-time    2708\n",
              "Student                221\n",
              "Employed part-time     201\n",
              "Unemployed             126\n",
              "Retired                 85\n",
              "Homemaker               78\n",
              "Name: count, dtype: int64"
            ],
            "text/html": [
              "<div>\n",
              "<style scoped>\n",
              "    .dataframe tbody tr th:only-of-type {\n",
              "        vertical-align: middle;\n",
              "    }\n",
              "\n",
              "    .dataframe tbody tr th {\n",
              "        vertical-align: top;\n",
              "    }\n",
              "\n",
              "    .dataframe thead th {\n",
              "        text-align: right;\n",
              "    }\n",
              "</style>\n",
              "<table border=\"1\" class=\"dataframe\">\n",
              "  <thead>\n",
              "    <tr style=\"text-align: right;\">\n",
              "      <th></th>\n",
              "      <th>count</th>\n",
              "    </tr>\n",
              "    <tr>\n",
              "      <th>employment_status</th>\n",
              "      <th></th>\n",
              "    </tr>\n",
              "  </thead>\n",
              "  <tbody>\n",
              "    <tr>\n",
              "      <th>Employed full-time</th>\n",
              "      <td>2708</td>\n",
              "    </tr>\n",
              "    <tr>\n",
              "      <th>Student</th>\n",
              "      <td>221</td>\n",
              "    </tr>\n",
              "    <tr>\n",
              "      <th>Employed part-time</th>\n",
              "      <td>201</td>\n",
              "    </tr>\n",
              "    <tr>\n",
              "      <th>Unemployed</th>\n",
              "      <td>126</td>\n",
              "    </tr>\n",
              "    <tr>\n",
              "      <th>Retired</th>\n",
              "      <td>85</td>\n",
              "    </tr>\n",
              "    <tr>\n",
              "      <th>Homemaker</th>\n",
              "      <td>78</td>\n",
              "    </tr>\n",
              "  </tbody>\n",
              "</table>\n",
              "</div><br><label><b>dtype:</b> int64</label>"
            ]
          },
          "metadata": {},
          "execution_count": 75
        }
      ]
    },
    {
      "cell_type": "code",
      "source": [
        "df['employment_status'].value_counts().plot(kind='pie', autopct='%1.1f%%')\n",
        "plt.title('Employment Status Distribution')\n",
        "plt.ylabel('')\n",
        "plt.show()"
      ],
      "metadata": {
        "colab": {
          "base_uri": "https://localhost:8080/",
          "height": 428
        },
        "id": "68iQNVbys1ou",
        "outputId": "2c44a2b3-122a-40dc-f033-33fa637fd4c1"
      },
      "execution_count": null,
      "outputs": [
        {
          "output_type": "display_data",
          "data": {
            "text/plain": [
              "<Figure size 640x480 with 1 Axes>"
            ],
            "image/png": "[encoded data removed]"
          },
          "metadata": {}
        }
      ]
    },
    {
      "cell_type": "markdown",
      "source": [
        "##2 Behavioral Segmentation"
      ],
      "metadata": {
        "id": "CT3My14qtJm5"
      }
    },
    {
      "cell_type": "markdown",
      "source": [
        "####a.Coffee Consumption"
      ],
      "metadata": {
        "id": "FsBdns-ktLGB"
      }
    },
    {
      "cell_type": "code",
      "source": [
        "df['cups'].value_counts()"
      ],
      "metadata": {
        "colab": {
          "base_uri": "https://localhost:8080/",
          "height": 303
        },
        "id": "nE9VLa2_tVm8",
        "outputId": "f0ab339c-9dc5-44ef-a146-a4956c358fb6"
      },
      "execution_count": null,
      "outputs": [
        {
          "output_type": "execute_result",
          "data": {
            "text/plain": [
              "cups\n",
              "2              1650\n",
              "1              1273\n",
              "3               468\n",
              "Less than 1     344\n",
              "4               121\n",
              "More than 4      66\n",
              "Name: count, dtype: int64"
            ],
            "text/html": [
              "<div>\n",
              "<style scoped>\n",
              "    .dataframe tbody tr th:only-of-type {\n",
              "        vertical-align: middle;\n",
              "    }\n",
              "\n",
              "    .dataframe tbody tr th {\n",
              "        vertical-align: top;\n",
              "    }\n",
              "\n",
              "    .dataframe thead th {\n",
              "        text-align: right;\n",
              "    }\n",
              "</style>\n",
              "<table border=\"1\" class=\"dataframe\">\n",
              "  <thead>\n",
              "    <tr style=\"text-align: right;\">\n",
              "      <th></th>\n",
              "      <th>count</th>\n",
              "    </tr>\n",
              "    <tr>\n",
              "      <th>cups</th>\n",
              "      <th></th>\n",
              "    </tr>\n",
              "  </thead>\n",
              "  <tbody>\n",
              "    <tr>\n",
              "      <th>2</th>\n",
              "      <td>1650</td>\n",
              "    </tr>\n",
              "    <tr>\n",
              "      <th>1</th>\n",
              "      <td>1273</td>\n",
              "    </tr>\n",
              "    <tr>\n",
              "      <th>3</th>\n",
              "      <td>468</td>\n",
              "    </tr>\n",
              "    <tr>\n",
              "      <th>Less than 1</th>\n",
              "      <td>344</td>\n",
              "    </tr>\n",
              "    <tr>\n",
              "      <th>4</th>\n",
              "      <td>121</td>\n",
              "    </tr>\n",
              "    <tr>\n",
              "      <th>More than 4</th>\n",
              "      <td>66</td>\n",
              "    </tr>\n",
              "  </tbody>\n",
              "</table>\n",
              "</div><br><label><b>dtype:</b> int64</label>"
            ]
          },
          "metadata": {},
          "execution_count": 77
        }
      ]
    },
    {
      "cell_type": "code",
      "source": [
        "df['cups'].value_counts().plot(kind='bar')\n",
        "plt.title('Number of Cups Per Day')\n",
        "plt.ylabel('')\n",
        "plt.show()"
      ],
      "metadata": {
        "colab": {
          "base_uri": "https://localhost:8080/",
          "height": 541
        },
        "id": "Tj9F5ZgVtY1N",
        "outputId": "705f3f24-9fcd-46e0-f6a1-476f2a282376"
      },
      "execution_count": null,
      "outputs": [
        {
          "output_type": "display_data",
          "data": {
            "text/plain": [
              "<Figure size 640x480 with 1 Axes>"
            ],
            "image/png": "[encoded data removed]"
          },
          "metadata": {}
        }
      ]
    },
    {
      "cell_type": "markdown",
      "source": [
        "####b. Coffee Preferences"
      ],
      "metadata": {
        "id": "GOcEAh5KtmdE"
      }
    },
    {
      "cell_type": "code",
      "source": [
        "df['strength'].value_counts()"
      ],
      "metadata": {
        "colab": {
          "base_uri": "https://localhost:8080/",
          "height": 272
        },
        "id": "4LmURIdyttED",
        "outputId": "1efefeaf-27c1-4a34-a335-fe5ed610a941"
      },
      "execution_count": null,
      "outputs": [
        {
          "output_type": "execute_result",
          "data": {
            "text/plain": [
              "strength\n",
              "Somewhat strong    1776\n",
              "Medium             1408\n",
              "Very strong         428\n",
              "Somewhat light      215\n",
              "Weak                 42\n",
              "Name: count, dtype: int64"
            ],
            "text/html": [
              "<div>\n",
              "<style scoped>\n",
              "    .dataframe tbody tr th:only-of-type {\n",
              "        vertical-align: middle;\n",
              "    }\n",
              "\n",
              "    .dataframe tbody tr th {\n",
              "        vertical-align: top;\n",
              "    }\n",
              "\n",
              "    .dataframe thead th {\n",
              "        text-align: right;\n",
              "    }\n",
              "</style>\n",
              "<table border=\"1\" class=\"dataframe\">\n",
              "  <thead>\n",
              "    <tr style=\"text-align: right;\">\n",
              "      <th></th>\n",
              "      <th>count</th>\n",
              "    </tr>\n",
              "    <tr>\n",
              "      <th>strength</th>\n",
              "      <th></th>\n",
              "    </tr>\n",
              "  </thead>\n",
              "  <tbody>\n",
              "    <tr>\n",
              "      <th>Somewhat strong</th>\n",
              "      <td>1776</td>\n",
              "    </tr>\n",
              "    <tr>\n",
              "      <th>Medium</th>\n",
              "      <td>1408</td>\n",
              "    </tr>\n",
              "    <tr>\n",
              "      <th>Very strong</th>\n",
              "      <td>428</td>\n",
              "    </tr>\n",
              "    <tr>\n",
              "      <th>Somewhat light</th>\n",
              "      <td>215</td>\n",
              "    </tr>\n",
              "    <tr>\n",
              "      <th>Weak</th>\n",
              "      <td>42</td>\n",
              "    </tr>\n",
              "  </tbody>\n",
              "</table>\n",
              "</div><br><label><b>dtype:</b> int64</label>"
            ]
          },
          "metadata": {},
          "execution_count": 79
        }
      ]
    },
    {
      "cell_type": "code",
      "source": [
        "df['strength'].value_counts().plot(kind='bar')\n",
        "plt.title('Preference for Strength of Coffee')\n",
        "plt.ylabel('')\n",
        "plt.show()"
      ],
      "metadata": {
        "colab": {
          "base_uri": "https://localhost:8080/",
          "height": 580
        },
        "id": "gLHqspgKt3gk",
        "outputId": "5372caa5-d22b-4a99-d510-af5f4ca2725f"
      },
      "execution_count": null,
      "outputs": [
        {
          "output_type": "display_data",
          "data": {
            "text/plain": [
              "<Figure size 640x480 with 1 Axes>"
            ],
            "image/png": "[encoded data removed]"
          },
          "metadata": {}
        }
      ]
    },
    {
      "cell_type": "code",
      "source": [
        "df['roast_level'].value_counts()"
      ],
      "metadata": {
        "colab": {
          "base_uri": "https://localhost:8080/",
          "height": 335
        },
        "id": "gIxWb05_t6Xq",
        "outputId": "22af54ac-1955-45a5-f81a-ca62ac300dcd"
      },
      "execution_count": null,
      "outputs": [
        {
          "output_type": "execute_result",
          "data": {
            "text/plain": [
              "roast_level\n",
              "Light      1756\n",
              "Medium     1534\n",
              "Dark        403\n",
              "Nordic       78\n",
              "Blonde       74\n",
              "Italian      23\n",
              "French       21\n",
              "Name: count, dtype: int64"
            ],
            "text/html": [
              "<div>\n",
              "<style scoped>\n",
              "    .dataframe tbody tr th:only-of-type {\n",
              "        vertical-align: middle;\n",
              "    }\n",
              "\n",
              "    .dataframe tbody tr th {\n",
              "        vertical-align: top;\n",
              "    }\n",
              "\n",
              "    .dataframe thead th {\n",
              "        text-align: right;\n",
              "    }\n",
              "</style>\n",
              "<table border=\"1\" class=\"dataframe\">\n",
              "  <thead>\n",
              "    <tr style=\"text-align: right;\">\n",
              "      <th></th>\n",
              "      <th>count</th>\n",
              "    </tr>\n",
              "    <tr>\n",
              "      <th>roast_level</th>\n",
              "      <th></th>\n",
              "    </tr>\n",
              "  </thead>\n",
              "  <tbody>\n",
              "    <tr>\n",
              "      <th>Light</th>\n",
              "      <td>1756</td>\n",
              "    </tr>\n",
              "    <tr>\n",
              "      <th>Medium</th>\n",
              "      <td>1534</td>\n",
              "    </tr>\n",
              "    <tr>\n",
              "      <th>Dark</th>\n",
              "      <td>403</td>\n",
              "    </tr>\n",
              "    <tr>\n",
              "      <th>Nordic</th>\n",
              "      <td>78</td>\n",
              "    </tr>\n",
              "    <tr>\n",
              "      <th>Blonde</th>\n",
              "      <td>74</td>\n",
              "    </tr>\n",
              "    <tr>\n",
              "      <th>Italian</th>\n",
              "      <td>23</td>\n",
              "    </tr>\n",
              "    <tr>\n",
              "      <th>French</th>\n",
              "      <td>21</td>\n",
              "    </tr>\n",
              "  </tbody>\n",
              "</table>\n",
              "</div><br><label><b>dtype:</b> int64</label>"
            ]
          },
          "metadata": {},
          "execution_count": 81
        }
      ]
    },
    {
      "cell_type": "code",
      "source": [
        "df['roast_level'].value_counts().plot(kind='bar')\n",
        "plt.title('Preferred Roast Levels')\n",
        "plt.ylabel('')\n",
        "plt.show()"
      ],
      "metadata": {
        "colab": {
          "base_uri": "https://localhost:8080/",
          "height": 513
        },
        "id": "Jql4aWHJt9D_",
        "outputId": "f753fe84-31f4-4fd4-dd2d-45ff310539d6"
      },
      "execution_count": null,
      "outputs": [
        {
          "output_type": "display_data",
          "data": {
            "text/plain": [
              "<Figure size 640x480 with 1 Axes>"
            ],
            "image/png": "[encoded data removed]"
          },
          "metadata": {}
        }
      ]
    },
    {
      "cell_type": "code",
      "source": [
        "df['caffeine'].value_counts()"
      ],
      "metadata": {
        "colab": {
          "base_uri": "https://localhost:8080/",
          "height": 209
        },
        "id": "3WQjc16yuGUJ",
        "outputId": "35a3affe-1b4c-477b-d73e-6f57f17cd311"
      },
      "execution_count": null,
      "outputs": [
        {
          "output_type": "execute_result",
          "data": {
            "text/plain": [
              "caffeine\n",
              "Full caffeine    3530\n",
              "Half caff         204\n",
              "Decaf             136\n",
              "Name: count, dtype: int64"
            ],
            "text/html": [
              "<div>\n",
              "<style scoped>\n",
              "    .dataframe tbody tr th:only-of-type {\n",
              "        vertical-align: middle;\n",
              "    }\n",
              "\n",
              "    .dataframe tbody tr th {\n",
              "        vertical-align: top;\n",
              "    }\n",
              "\n",
              "    .dataframe thead th {\n",
              "        text-align: right;\n",
              "    }\n",
              "</style>\n",
              "<table border=\"1\" class=\"dataframe\">\n",
              "  <thead>\n",
              "    <tr style=\"text-align: right;\">\n",
              "      <th></th>\n",
              "      <th>count</th>\n",
              "    </tr>\n",
              "    <tr>\n",
              "      <th>caffeine</th>\n",
              "      <th></th>\n",
              "    </tr>\n",
              "  </thead>\n",
              "  <tbody>\n",
              "    <tr>\n",
              "      <th>Full caffeine</th>\n",
              "      <td>3530</td>\n",
              "    </tr>\n",
              "    <tr>\n",
              "      <th>Half caff</th>\n",
              "      <td>204</td>\n",
              "    </tr>\n",
              "    <tr>\n",
              "      <th>Decaf</th>\n",
              "      <td>136</td>\n",
              "    </tr>\n",
              "  </tbody>\n",
              "</table>\n",
              "</div><br><label><b>dtype:</b> int64</label>"
            ]
          },
          "metadata": {},
          "execution_count": 83
        }
      ]
    },
    {
      "cell_type": "code",
      "source": [
        "df['caffeine'].value_counts().plot(kind='bar')\n",
        "plt.title('Preferred Caffeine Levels')\n",
        "plt.ylabel('')\n",
        "plt.show()"
      ],
      "metadata": {
        "colab": {
          "base_uri": "https://localhost:8080/",
          "height": 542
        },
        "id": "M1Z7N8fiuIza",
        "outputId": "a65c4666-076c-44e8-8432-851e40b0baa8"
      },
      "execution_count": null,
      "outputs": [
        {
          "output_type": "display_data",
          "data": {
            "text/plain": [
              "<Figure size 640x480 with 1 Axes>"
            ],
            "image/png": "[encoded data removed]"
          },
          "metadata": {}
        }
      ]
    },
    {
      "cell_type": "markdown",
      "source": [
        "####c. Buying Behavior"
      ],
      "metadata": {
        "id": "N922YY0AuNbc"
      }
    },
    {
      "cell_type": "code",
      "source": [
        "df_encoded = pd.get_dummies(df[['spent_equipment', 'total_spend', 'purchase']], drop_first=True)"
      ],
      "metadata": {
        "id": "yo8q3738wVyG"
      },
      "execution_count": null,
      "outputs": []
    },
    {
      "cell_type": "code",
      "source": [
        "df_numeric = df[['expertise', 'cups']].copy()\n",
        "\n",
        "# Convert 'cups' to numeric (e.g., using a mapping)\n",
        "cups_mapping = {'Less than 1': 0, '1': 1, '2': 2, '3': 3, '4': 4, 'More than 4': 5}\n",
        "df_numeric['cups'] = df_numeric['cups'].map(cups_mapping)"
      ],
      "metadata": {
        "id": "a3MfrVQMw-Il"
      },
      "execution_count": null,
      "outputs": []
    },
    {
      "cell_type": "code",
      "source": [
        "# Combine encoded and numeric features\n",
        "buying_behavior = pd.concat([df_encoded, df_numeric], axis=1)"
      ],
      "metadata": {
        "id": "uVmcQ9KQxNLp"
      },
      "execution_count": null,
      "outputs": []
    },
    {
      "cell_type": "code",
      "source": [
        "buying_behavior['cups'].info()"
      ],
      "metadata": {
        "colab": {
          "base_uri": "https://localhost:8080/"
        },
        "id": "MMLWjtBj2J47",
        "outputId": "813d940b-e957-41cd-d856-417f9c2ae094"
      },
      "execution_count": null,
      "outputs": [
        {
          "output_type": "stream",
          "name": "stdout",
          "text": [
            "<class 'pandas.core.series.Series'>\n",
            "Index: 3922 entries, 8 to 4041\n",
            "Series name: cups\n",
            "Non-Null Count  Dtype\n",
            "--------------  -----\n",
            "3922 non-null   int64\n",
            "dtypes: int64(1)\n",
            "memory usage: 61.3 KB\n"
          ]
        }
      ]
    },
    {
      "cell_type": "code",
      "source": [
        "buying_behavior.dropna(inplace=True)"
      ],
      "metadata": {
        "id": "Orjn-cK1xnw8"
      },
      "execution_count": null,
      "outputs": []
    },
    {
      "cell_type": "code",
      "source": [
        "from sklearn.preprocessing import StandardScaler\n",
        "from sklearn.cluster import KMeans\n",
        "from sklearn.metrics import silhouette_score\n"
      ],
      "metadata": {
        "id": "Hu35MwTtxZ3X"
      },
      "execution_count": null,
      "outputs": []
    },
    {
      "cell_type": "code",
      "source": [
        "# Standardize the combined data\n",
        "scaler = StandardScaler()\n",
        "df_scaled = scaler.fit_transform(buying_behavior)"
      ],
      "metadata": {
        "id": "3SAumIiJxdMg"
      },
      "execution_count": null,
      "outputs": []
    },
    {
      "cell_type": "code",
      "source": [
        "# Determine optimal number of clusters using the Elbow method\n",
        "inertia = []\n",
        "for i in range(1, 11):\n",
        "    kmeans = KMeans(n_clusters=i, random_state=42)\n",
        "    kmeans.fit(df_scaled)\n",
        "    inertia.append(kmeans.inertia_)\n",
        "\n",
        "plt.figure(figsize=(10, 6))\n",
        "plt.plot(range(1, 11), inertia, marker='o')\n",
        "plt.title('Elbow Method for Optimal Number of Clusters')\n",
        "plt.xlabel('Number of Clusters')\n",
        "plt.ylabel('Inertia')\n",
        "plt.show()"
      ],
      "metadata": {
        "colab": {
          "base_uri": "https://localhost:8080/",
          "height": 931
        },
        "id": "-j9ydiXhxiZ_",
        "outputId": "c65c6465-a1f7-4059-afee-76e39334d6bb"
      },
      "execution_count": null,
      "outputs": [
        {
          "output_type": "stream",
          "name": "stderr",
          "text": [
            "/usr/local/lib/python3.10/dist-packages/sklearn/cluster/_kmeans.py:1416: FutureWarning: The default value of `n_init` will change from 10 to 'auto' in 1.4. Set the value of `n_init` explicitly to suppress the warning\n",
            "  super()._check_params_vs_input(X, default_n_init=10)\n",
            "/usr/local/lib/python3.10/dist-packages/sklearn/cluster/_kmeans.py:1416: FutureWarning: The default value of `n_init` will change from 10 to 'auto' in 1.4. Set the value of `n_init` explicitly to suppress the warning\n",
            "  super()._check_params_vs_input(X, default_n_init=10)\n",
            "/usr/local/lib/python3.10/dist-packages/sklearn/cluster/_kmeans.py:1416: FutureWarning: The default value of `n_init` will change from 10 to 'auto' in 1.4. Set the value of `n_init` explicitly to suppress the warning\n",
            "  super()._check_params_vs_input(X, default_n_init=10)\n",
            "/usr/local/lib/python3.10/dist-packages/sklearn/cluster/_kmeans.py:1416: FutureWarning: The default value of `n_init` will change from 10 to 'auto' in 1.4. Set the value of `n_init` explicitly to suppress the warning\n",
            "  super()._check_params_vs_input(X, default_n_init=10)\n",
            "/usr/local/lib/python3.10/dist-packages/sklearn/cluster/_kmeans.py:1416: FutureWarning: The default value of `n_init` will change from 10 to 'auto' in 1.4. Set the value of `n_init` explicitly to suppress the warning\n",
            "  super()._check_params_vs_input(X, default_n_init=10)\n",
            "/usr/local/lib/python3.10/dist-packages/sklearn/cluster/_kmeans.py:1416: FutureWarning: The default value of `n_init` will change from 10 to 'auto' in 1.4. Set the value of `n_init` explicitly to suppress the warning\n",
            "  super()._check_params_vs_input(X, default_n_init=10)\n",
            "/usr/local/lib/python3.10/dist-packages/sklearn/cluster/_kmeans.py:1416: FutureWarning: The default value of `n_init` will change from 10 to 'auto' in 1.4. Set the value of `n_init` explicitly to suppress the warning\n",
            "  super()._check_params_vs_input(X, default_n_init=10)\n",
            "/usr/local/lib/python3.10/dist-packages/sklearn/cluster/_kmeans.py:1416: FutureWarning: The default value of `n_init` will change from 10 to 'auto' in 1.4. Set the value of `n_init` explicitly to suppress the warning\n",
            "  super()._check_params_vs_input(X, default_n_init=10)\n",
            "/usr/local/lib/python3.10/dist-packages/sklearn/cluster/_kmeans.py:1416: FutureWarning: The default value of `n_init` will change from 10 to 'auto' in 1.4. Set the value of `n_init` explicitly to suppress the warning\n",
            "  super()._check_params_vs_input(X, default_n_init=10)\n",
            "/usr/local/lib/python3.10/dist-packages/sklearn/cluster/_kmeans.py:1416: FutureWarning: The default value of `n_init` will change from 10 to 'auto' in 1.4. Set the value of `n_init` explicitly to suppress the warning\n",
            "  super()._check_params_vs_input(X, default_n_init=10)\n"
          ]
        },
        {
          "output_type": "display_data",
          "data": {
            "text/plain": [
              "<Figure size 1000x600 with 1 Axes>"
            ],
            "image/png": "[encoded data removed]"
          },
          "metadata": {}
        }
      ]
    },
    {
      "cell_type": "code",
      "source": [
        "# Apply K-Means clustering with the optimal number of clusters\n",
        "optimal_clusters = 2\n",
        "kmeans = KMeans(n_clusters=optimal_clusters, random_state=42)\n",
        "buying_behavior['cluster'] = kmeans.fit_predict(df_scaled)"
      ],
      "metadata": {
        "colab": {
          "base_uri": "https://localhost:8080/"
        },
        "id": "dM3pUplkyLy0",
        "outputId": "63a870f2-c91c-4ca8-eb18-8c4de16faec0"
      },
      "execution_count": null,
      "outputs": [
        {
          "output_type": "stream",
          "name": "stderr",
          "text": [
            "/usr/local/lib/python3.10/dist-packages/sklearn/cluster/_kmeans.py:1416: FutureWarning: The default value of `n_init` will change from 10 to 'auto' in 1.4. Set the value of `n_init` explicitly to suppress the warning\n",
            "  super()._check_params_vs_input(X, default_n_init=10)\n"
          ]
        }
      ]
    },
    {
      "cell_type": "code",
      "source": [
        "buying_behavior.info()"
      ],
      "metadata": {
        "colab": {
          "base_uri": "https://localhost:8080/"
        },
        "id": "nw-vRyRUzBSH",
        "outputId": "efe5712f-071b-4671-ea74-6e25d0305d41"
      },
      "execution_count": null,
      "outputs": [
        {
          "output_type": "stream",
          "name": "stdout",
          "text": [
            "<class 'pandas.core.frame.DataFrame'>\n",
            "Index: 3888 entries, 14 to 4041\n",
            "Columns: 101 entries, spent_equipment_$20-$50 to cluster\n",
            "dtypes: bool(98), category(1), float64(1), int32(1)\n",
            "memory usage: 452.0 KB\n"
          ]
        }
      ]
    },
    {
      "cell_type": "code",
      "source": [
        "segment_summary = buying_behavior.groupby('cluster').mean()\n",
        "segment_summary"
      ],
      "metadata": {
        "colab": {
          "base_uri": "https://localhost:8080/",
          "height": 213
        },
        "id": "H-M8vaCey70n",
        "outputId": "b053d909-eebe-4ff0-98f2-00616db05e66"
      },
      "execution_count": null,
      "outputs": [
        {
          "output_type": "execute_result",
          "data": {
            "text/plain": [
              "         spent_equipment_$20-$50  spent_equipment_$300-$500  \\\n",
              "cluster                                                       \n",
              "0                       0.005504                   0.193670   \n",
              "1                       0.175331                   0.034659   \n",
              "\n",
              "         spent_equipment_$50-$100  spent_equipment_$500-$1000  \\\n",
              "cluster                                                         \n",
              "0                        0.014448                    0.212934   \n",
              "1                        0.273191                    0.023445   \n",
              "\n",
              "         spent_equipment_Less than $20  spent_equipment_More than $1,000  \\\n",
              "cluster                                                                    \n",
              "0                             0.002064                          0.260062   \n",
              "1                             0.237513                          0.024465   \n",
              "\n",
              "         total_spend_$40-$60  total_spend_$60-$80  total_spend_$80-$100  \\\n",
              "cluster                                                                   \n",
              "0                   0.322325             0.125559              0.067423   \n",
              "1                   0.114169             0.022426              0.027523   \n",
              "\n",
              "         total_spend_<$20  ...  \\\n",
              "cluster                    ...   \n",
              "0                0.007224  ...   \n",
              "1                0.412844  ...   \n",
              "\n",
              "         purchase_Specialty coffee shop, National chain (e.g. Starbucks, Dunkin)  \\\n",
              "cluster                                                                            \n",
              "0                                                 0.008944                         \n",
              "1                                                 0.004077                         \n",
              "\n",
              "         purchase_Specialty coffee shop, National chain (e.g. Starbucks, Dunkin), Deli or supermarket, Local cafe  \\\n",
              "cluster                                                                                                             \n",
              "0                                                 0.000000                                                          \n",
              "1                                                 0.001019                                                          \n",
              "\n",
              "         purchase_Specialty coffee shop, National chain (e.g. Starbucks, Dunkin), Drive-thru  \\\n",
              "cluster                                                                                        \n",
              "0                                                 0.001032                                     \n",
              "1                                                 0.000000                                     \n",
              "\n",
              "         purchase_Specialty coffee shop, National chain (e.g. Starbucks, Dunkin), Local cafe  \\\n",
              "cluster                                                                                        \n",
              "0                                                 0.004816                                     \n",
              "1                                                 0.003058                                     \n",
              "\n",
              "         purchase_Specialty coffee shop, National chain (e.g. Starbucks, Dunkin), Local cafe, Deli or supermarket  \\\n",
              "cluster                                                                                                             \n",
              "0                                                 0.000344                                                          \n",
              "1                                                 0.000000                                                          \n",
              "\n",
              "         purchase_Specialty coffee shop, National chain (e.g. Starbucks, Dunkin), Local cafe, Deli or supermarket, Drive-thru  \\\n",
              "cluster                                                                                                                         \n",
              "0                                                 0.000344                                                                      \n",
              "1                                                 0.000000                                                                      \n",
              "\n",
              "         purchase_Specialty coffee shop, Other, Local cafe  purchase_Unknown  \\\n",
              "cluster                                                                        \n",
              "0                                                 0.000688          0.840729   \n",
              "1                                                 0.000000          0.766565   \n",
              "\n",
              "         expertise      cups  \n",
              "cluster                       \n",
              "0         6.314069  1.940488  \n",
              "1         3.856269  1.117227  \n",
              "\n",
              "[2 rows x 100 columns]"
            ],
            "text/html": [
              "\n",
              "  <div id=\"df-51f028f1-52e7-41f0-89fe-8ca734b075a0\" class=\"colab-df-container\">\n",
              "    <div>\n",
              "<style scoped>\n",
              "    .dataframe tbody tr th:only-of-type {\n",
              "        vertical-align: middle;\n",
              "    }\n",
              "\n",
              "    .dataframe tbody tr th {\n",
              "        vertical-align: top;\n",
              "    }\n",
              "\n",
              "    .dataframe thead th {\n",
              "        text-align: right;\n",
              "    }\n",
              "</style>\n",
              "<table border=\"1\" class=\"dataframe\">\n",
              "  <thead>\n",
              "    <tr style=\"text-align: right;\">\n",
              "      <th></th>\n",
              "      <th>spent_equipment_$20-$50</th>\n",
              "      <th>spent_equipment_$300-$500</th>\n",
              "      <th>spent_equipment_$50-$100</th>\n",
              "      <th>spent_equipment_$500-$1000</th>\n",
              "      <th>spent_equipment_Less than $20</th>\n",
              "      <th>spent_equipment_More than $1,000</th>\n",
              "      <th>total_spend_$40-$60</th>\n",
              "      <th>total_spend_$60-$80</th>\n",
              "      <th>total_spend_$80-$100</th>\n",
              "      <th>total_spend_&lt;$20</th>\n",
              "      <th>...</th>\n",
              "      <th>purchase_Specialty coffee shop, National chain (e.g. Starbucks, Dunkin)</th>\n",
              "      <th>purchase_Specialty coffee shop, National chain (e.g. Starbucks, Dunkin), Deli or supermarket, Local cafe</th>\n",
              "      <th>purchase_Specialty coffee shop, National chain (e.g. Starbucks, Dunkin), Drive-thru</th>\n",
              "      <th>purchase_Specialty coffee shop, National chain (e.g. Starbucks, Dunkin), Local cafe</th>\n",
              "      <th>purchase_Specialty coffee shop, National chain (e.g. Starbucks, Dunkin), Local cafe, Deli or supermarket</th>\n",
              "      <th>purchase_Specialty coffee shop, National chain (e.g. Starbucks, Dunkin), Local cafe, Deli or supermarket, Drive-thru</th>\n",
              "      <th>purchase_Specialty coffee shop, Other, Local cafe</th>\n",
              "      <th>purchase_Unknown</th>\n",
              "      <th>expertise</th>\n",
              "      <th>cups</th>\n",
              "    </tr>\n",
              "    <tr>\n",
              "      <th>cluster</th>\n",
              "      <th></th>\n",
              "      <th></th>\n",
              "      <th></th>\n",
              "      <th></th>\n",
              "      <th></th>\n",
              "      <th></th>\n",
              "      <th></th>\n",
              "      <th></th>\n",
              "      <th></th>\n",
              "      <th></th>\n",
              "      <th></th>\n",
              "      <th></th>\n",
              "      <th></th>\n",
              "      <th></th>\n",
              "      <th></th>\n",
              "      <th></th>\n",
              "      <th></th>\n",
              "      <th></th>\n",
              "      <th></th>\n",
              "      <th></th>\n",
              "      <th></th>\n",
              "    </tr>\n",
              "  </thead>\n",
              "  <tbody>\n",
              "    <tr>\n",
              "      <th>0</th>\n",
              "      <td>0.005504</td>\n",
              "      <td>0.193670</td>\n",
              "      <td>0.014448</td>\n",
              "      <td>0.212934</td>\n",
              "      <td>0.002064</td>\n",
              "      <td>0.260062</td>\n",
              "      <td>0.322325</td>\n",
              "      <td>0.125559</td>\n",
              "      <td>0.067423</td>\n",
              "      <td>0.007224</td>\n",
              "      <td>...</td>\n",
              "      <td>0.008944</td>\n",
              "      <td>0.000000</td>\n",
              "      <td>0.001032</td>\n",
              "      <td>0.004816</td>\n",
              "      <td>0.000344</td>\n",
              "      <td>0.000344</td>\n",
              "      <td>0.000688</td>\n",
              "      <td>0.840729</td>\n",
              "      <td>6.314069</td>\n",
              "      <td>1.940488</td>\n",
              "    </tr>\n",
              "    <tr>\n",
              "      <th>1</th>\n",
              "      <td>0.175331</td>\n",
              "      <td>0.034659</td>\n",
              "      <td>0.273191</td>\n",
              "      <td>0.023445</td>\n",
              "      <td>0.237513</td>\n",
              "      <td>0.024465</td>\n",
              "      <td>0.114169</td>\n",
              "      <td>0.022426</td>\n",
              "      <td>0.027523</td>\n",
              "      <td>0.412844</td>\n",
              "      <td>...</td>\n",
              "      <td>0.004077</td>\n",
              "      <td>0.001019</td>\n",
              "      <td>0.000000</td>\n",
              "      <td>0.003058</td>\n",
              "      <td>0.000000</td>\n",
              "      <td>0.000000</td>\n",
              "      <td>0.000000</td>\n",
              "      <td>0.766565</td>\n",
              "      <td>3.856269</td>\n",
              "      <td>1.117227</td>\n",
              "    </tr>\n",
              "  </tbody>\n",
              "</table>\n",
              "<p>2 rows × 100 columns</p>\n",
              "</div>\n",
              "    <div class=\"colab-df-buttons\">\n",
              "\n",
              "  <div class=\"colab-df-container\">\n",
              "    <button class=\"colab-df-convert\" onclick=\"convertToInteractive('df-51f028f1-52e7-41f0-89fe-8ca734b075a0')\"\n",
              "            title=\"Convert this dataframe to an interactive table.\"\n",
              "            style=\"display:none;\">\n",
              "\n",
              "  <svg xmlns=\"http://www.w3.org/2000/svg\" height=\"24px\" viewBox=\"0 -960 960 960\">\n",
              "    <path d=\"M120-120v-720h720v720H120Zm60-500h600v-160H180v160Zm220 220h160v-160H400v160Zm0 220h160v-160H400v160ZM180-400h160v-160H180v160Zm440 0h160v-160H620v160ZM180-180h160v-160H180v160Zm440 0h160v-160H620v160Z\"/>\n",
              "  </svg>\n",
              "    </button>\n",
              "\n",
              "  <style>\n",
              "    .colab-df-container {\n",
              "      display:flex;\n",
              "      gap: 12px;\n",
              "    }\n",
              "\n",
              "    .colab-df-convert {\n",
              "      background-color: #E8F0FE;\n",
              "      border: none;\n",
              "      border-radius: 50%;\n",
              "      cursor: pointer;\n",
              "      display: none;\n",
              "      fill: #1967D2;\n",
              "      height: 32px;\n",
              "      padding: 0 0 0 0;\n",
              "      width: 32px;\n",
              "    }\n",
              "\n",
              "    .colab-df-convert:hover {\n",
              "      background-color: #E2EBFA;\n",
              "      box-shadow: 0px 1px 2px rgba(60, 64, 67, 0.3), 0px 1px 3px 1px rgba(60, 64, 67, 0.15);\n",
              "      fill: #174EA6;\n",
              "    }\n",
              "\n",
              "    .colab-df-buttons div {\n",
              "      margin-bottom: 4px;\n",
              "    }\n",
              "\n",
              "    [theme=dark] .colab-df-convert {\n",
              "      background-color: #3B4455;\n",
              "      fill: #D2E3FC;\n",
              "    }\n",
              "\n",
              "    [theme=dark] .colab-df-convert:hover {\n",
              "      background-color: #434B5C;\n",
              "      box-shadow: 0px 1px 3px 1px rgba(0, 0, 0, 0.15);\n",
              "      filter: drop-shadow(0px 1px 2px rgba(0, 0, 0, 0.3));\n",
              "      fill: #FFFFFF;\n",
              "    }\n",
              "  </style>\n",
              "\n",
              "    <script>\n",
              "      const buttonEl =\n",
              "        document.querySelector('#df-51f028f1-52e7-41f0-89fe-8ca734b075a0 button.colab-df-convert');\n",
              "      buttonEl.style.display =\n",
              "        google.colab.kernel.accessAllowed ? 'block' : 'none';\n",
              "\n",
              "      async function convertToInteractive(key) {\n",
              "        const element = document.querySelector('#df-51f028f1-52e7-41f0-89fe-8ca734b075a0');\n",
              "        const dataTable =\n",
              "          await google.colab.kernel.invokeFunction('convertToInteractive',\n",
              "                                                    [key], {});\n",
              "        if (!dataTable) return;\n",
              "\n",
              "        const docLinkHtml = 'Like what you see? Visit the ' +\n",
              "          '<a target=\"_blank\" href=https://colab.research.google.com/notebooks/data_table.ipynb>data table notebook</a>'\n",
              "          + ' to learn more about interactive tables.';\n",
              "        element.innerHTML = '';\n",
              "        dataTable['output_type'] = 'display_data';\n",
              "        await google.colab.output.renderOutput(dataTable, element);\n",
              "        const docLink = document.createElement('div');\n",
              "        docLink.innerHTML = docLinkHtml;\n",
              "        element.appendChild(docLink);\n",
              "      }\n",
              "    </script>\n",
              "  </div>\n",
              "\n",
              "\n",
              "<div id=\"df-65e6ed5a-8921-48b0-a9c2-3990d7373a01\">\n",
              "  <button class=\"colab-df-quickchart\" onclick=\"quickchart('df-65e6ed5a-8921-48b0-a9c2-3990d7373a01')\"\n",
              "            title=\"Suggest charts\"\n",
              "            style=\"display:none;\">\n",
              "\n",
              "<svg xmlns=\"http://www.w3.org/2000/svg\" height=\"24px\"viewBox=\"0 0 24 24\"\n",
              "     width=\"24px\">\n",
              "    <g>\n",
              "        <path d=\"M19 3H5c-1.1 0-2 .9-2 2v14c0 1.1.9 2 2 2h14c1.1 0 2-.9 2-2V5c0-1.1-.9-2-2-2zM9 17H7v-7h2v7zm4 0h-2V7h2v10zm4 0h-2v-4h2v4z\"/>\n",
              "    </g>\n",
              "</svg>\n",
              "  </button>\n",
              "\n",
              "<style>\n",
              "  .colab-df-quickchart {\n",
              "      --bg-color: #E8F0FE;\n",
              "      --fill-color: #1967D2;\n",
              "      --hover-bg-color: #E2EBFA;\n",
              "      --hover-fill-color: #174EA6;\n",
              "      --disabled-fill-color: #AAA;\n",
              "      --disabled-bg-color: #DDD;\n",
              "  }\n",
              "\n",
              "  [theme=dark] .colab-df-quickchart {\n",
              "      --bg-color: #3B4455;\n",
              "      --fill-color: #D2E3FC;\n",
              "      --hover-bg-color: #434B5C;\n",
              "      --hover-fill-color: #FFFFFF;\n",
              "      --disabled-bg-color: #3B4455;\n",
              "      --disabled-fill-color: #666;\n",
              "  }\n",
              "\n",
              "  .colab-df-quickchart {\n",
              "    background-color: var(--bg-color);\n",
              "    border: none;\n",
              "    border-radius: 50%;\n",
              "    cursor: pointer;\n",
              "    display: none;\n",
              "    fill: var(--fill-color);\n",
              "    height: 32px;\n",
              "    padding: 0;\n",
              "    width: 32px;\n",
              "  }\n",
              "\n",
              "  .colab-df-quickchart:hover {\n",
              "    background-color: var(--hover-bg-color);\n",
              "    box-shadow: 0 1px 2px rgba(60, 64, 67, 0.3), 0 1px 3px 1px rgba(60, 64, 67, 0.15);\n",
              "    fill: var(--button-hover-fill-color);\n",
              "  }\n",
              "\n",
              "  .colab-df-quickchart-complete:disabled,\n",
              "  .colab-df-quickchart-complete:disabled:hover {\n",
              "    background-color: var(--disabled-bg-color);\n",
              "    fill: var(--disabled-fill-color);\n",
              "    box-shadow: none;\n",
              "  }\n",
              "\n",
              "  .colab-df-spinner {\n",
              "    border: 2px solid var(--fill-color);\n",
              "    border-color: transparent;\n",
              "    border-bottom-color: var(--fill-color);\n",
              "    animation:\n",
              "      spin 1s steps(1) infinite;\n",
              "  }\n",
              "\n",
              "  @keyframes spin {\n",
              "    0% {\n",
              "      border-color: transparent;\n",
              "      border-bottom-color: var(--fill-color);\n",
              "      border-left-color: var(--fill-color);\n",
              "    }\n",
              "    20% {\n",
              "      border-color: transparent;\n",
              "      border-left-color: var(--fill-color);\n",
              "      border-top-color: var(--fill-color);\n",
              "    }\n",
              "    30% {\n",
              "      border-color: transparent;\n",
              "      border-left-color: var(--fill-color);\n",
              "      border-top-color: var(--fill-color);\n",
              "      border-right-color: var(--fill-color);\n",
              "    }\n",
              "    40% {\n",
              "      border-color: transparent;\n",
              "      border-right-color: var(--fill-color);\n",
              "      border-top-color: var(--fill-color);\n",
              "    }\n",
              "    60% {\n",
              "      border-color: transparent;\n",
              "      border-right-color: var(--fill-color);\n",
              "    }\n",
              "    80% {\n",
              "      border-color: transparent;\n",
              "      border-right-color: var(--fill-color);\n",
              "      border-bottom-color: var(--fill-color);\n",
              "    }\n",
              "    90% {\n",
              "      border-color: transparent;\n",
              "      border-bottom-color: var(--fill-color);\n",
              "    }\n",
              "  }\n",
              "</style>\n",
              "\n",
              "  <script>\n",
              "    async function quickchart(key) {\n",
              "      const quickchartButtonEl =\n",
              "        document.querySelector('#' + key + ' button');\n",
              "      quickchartButtonEl.disabled = true;  // To prevent multiple clicks.\n",
              "      quickchartButtonEl.classList.add('colab-df-spinner');\n",
              "      try {\n",
              "        const charts = await google.colab.kernel.invokeFunction(\n",
              "            'suggestCharts', [key], {});\n",
              "      } catch (error) {\n",
              "        console.error('Error during call to suggestCharts:', error);\n",
              "      }\n",
              "      quickchartButtonEl.classList.remove('colab-df-spinner');\n",
              "      quickchartButtonEl.classList.add('colab-df-quickchart-complete');\n",
              "    }\n",
              "    (() => {\n",
              "      let quickchartButtonEl =\n",
              "        document.querySelector('#df-65e6ed5a-8921-48b0-a9c2-3990d7373a01 button');\n",
              "      quickchartButtonEl.style.display =\n",
              "        google.colab.kernel.accessAllowed ? 'block' : 'none';\n",
              "    })();\n",
              "  </script>\n",
              "</div>\n",
              "\n",
              "  <div id=\"id_4514f96f-e3ac-4573-92c8-8c466b570f94\">\n",
              "    <style>\n",
              "      .colab-df-generate {\n",
              "        background-color: #E8F0FE;\n",
              "        border: none;\n",
              "        border-radius: 50%;\n",
              "        cursor: pointer;\n",
              "        display: none;\n",
              "        fill: #1967D2;\n",
              "        height: 32px;\n",
              "        padding: 0 0 0 0;\n",
              "        width: 32px;\n",
              "      }\n",
              "\n",
              "      .colab-df-generate:hover {\n",
              "        background-color: #E2EBFA;\n",
              "        box-shadow: 0px 1px 2px rgba(60, 64, 67, 0.3), 0px 1px 3px 1px rgba(60, 64, 67, 0.15);\n",
              "        fill: #174EA6;\n",
              "      }\n",
              "\n",
              "      [theme=dark] .colab-df-generate {\n",
              "        background-color: #3B4455;\n",
              "        fill: #D2E3FC;\n",
              "      }\n",
              "\n",
              "      [theme=dark] .colab-df-generate:hover {\n",
              "        background-color: #434B5C;\n",
              "        box-shadow: 0px 1px 3px 1px rgba(0, 0, 0, 0.15);\n",
              "        filter: drop-shadow(0px 1px 2px rgba(0, 0, 0, 0.3));\n",
              "        fill: #FFFFFF;\n",
              "      }\n",
              "    </style>\n",
              "    <button class=\"colab-df-generate\" onclick=\"generateWithVariable('segment_summary')\"\n",
              "            title=\"Generate code using this dataframe.\"\n",
              "            style=\"display:none;\">\n",
              "\n",
              "  <svg xmlns=\"http://www.w3.org/2000/svg\" height=\"24px\"viewBox=\"0 0 24 24\"\n",
              "       width=\"24px\">\n",
              "    <path d=\"M7,19H8.4L18.45,9,17,7.55,7,17.6ZM5,21V16.75L18.45,3.32a2,2,0,0,1,2.83,0l1.4,1.43a1.91,1.91,0,0,1,.58,1.4,1.91,1.91,0,0,1-.58,1.4L9.25,21ZM18.45,9,17,7.55Zm-12,3A5.31,5.31,0,0,0,4.9,8.1,5.31,5.31,0,0,0,1,6.5,5.31,5.31,0,0,0,4.9,4.9,5.31,5.31,0,0,0,6.5,1,5.31,5.31,0,0,0,8.1,4.9,5.31,5.31,0,0,0,12,6.5,5.46,5.46,0,0,0,6.5,12Z\"/>\n",
              "  </svg>\n",
              "    </button>\n",
              "    <script>\n",
              "      (() => {\n",
              "      const buttonEl =\n",
              "        document.querySelector('#id_4514f96f-e3ac-4573-92c8-8c466b570f94 button.colab-df-generate');\n",
              "      buttonEl.style.display =\n",
              "        google.colab.kernel.accessAllowed ? 'block' : 'none';\n",
              "\n",
              "      buttonEl.onclick = () => {\n",
              "        google.colab.notebook.generateWithVariable('segment_summary');\n",
              "      }\n",
              "      })();\n",
              "    </script>\n",
              "  </div>\n",
              "\n",
              "    </div>\n",
              "  </div>\n"
            ],
            "application/vnd.google.colaboratory.intrinsic+json": {
              "type": "dataframe",
              "variable_name": "segment_summary"
            }
          },
          "metadata": {},
          "execution_count": 149
        },
        {
          "output_type": "stream",
          "name": "stdout",
          "text": [
            "Warning: Total number of columns (100) exceeds max_columns (20) limiting to first (20) columns.\n"
          ]
        }
      ]
    },
    {
      "cell_type": "markdown",
      "source": [
        "**Cluster Characteristics:**\n",
        "\n",
        "- **Cluster 0:**\n",
        "  - Higher spending on equipment in the \"$500-$1000\" and \"More than $1,000\" categories.\n",
        "\n",
        "  - Predominantly purchases coffee from a combination of local cafes and specialty coffee shops.\n",
        "\n",
        "  - Moderate total spend on coffee, with a range of spending including \"$40-$60\" and \"$60-$80\".\n",
        "\n",
        "- **Cluster 1:**\n",
        "\n",
        "  - Higher spending on equipment in the \"$20-$50\" and \"$50-$100\" categories.\n",
        "\n",
        "  - Significant proportion purchases coffee from local cafes, national chains, and specialty coffee shops.\n",
        "  \n",
        "  - Higher total spend on coffee in the \"$100+\" category."
      ],
      "metadata": {
        "id": "dtoL8lzZ3sHS"
      }
    },
    {
      "cell_type": "markdown",
      "source": [
        "#Customer Segmentation"
      ],
      "metadata": {
        "id": "DYEzOd-2JuXP"
      }
    },
    {
      "cell_type": "markdown",
      "source": [
        "##1. Preprocessing"
      ],
      "metadata": {
        "id": "NFDQ1iiORHBM"
      }
    },
    {
      "cell_type": "code",
      "source": [
        "taster_background_cols = ['age', 'cups', 'At a cafe', 'At home', 'At the office', 'None of these', 'On the go', 'nan', 'favorite', 'style', 'strength', 'roast_level', 'caffeine', 'expertise']"
      ],
      "metadata": {
        "id": "XnlfUJn0J0dA"
      },
      "execution_count": null,
      "outputs": []
    },
    {
      "cell_type": "code",
      "source": [
        "taster_background = df[taster_background_cols]"
      ],
      "metadata": {
        "id": "wpXFamrGPABQ"
      },
      "execution_count": null,
      "outputs": []
    },
    {
      "cell_type": "code",
      "source": [
        "taster_background.info()"
      ],
      "metadata": {
        "colab": {
          "base_uri": "https://localhost:8080/"
        },
        "id": "cwV0b7U0PNSJ",
        "outputId": "8b615a1d-d63c-479e-e8da-0aaea9b6669c"
      },
      "execution_count": null,
      "outputs": [
        {
          "output_type": "stream",
          "name": "stdout",
          "text": [
            "<class 'pandas.core.frame.DataFrame'>\n",
            "Index: 3922 entries, 8 to 4041\n",
            "Data columns (total 14 columns):\n",
            " #   Column         Non-Null Count  Dtype   \n",
            "---  ------         --------------  -----   \n",
            " 0   age            3922 non-null   category\n",
            " 1   cups           3922 non-null   category\n",
            " 2   At a cafe      3922 non-null   int64   \n",
            " 3   At home        3922 non-null   int64   \n",
            " 4   At the office  3922 non-null   int64   \n",
            " 5   None of these  3922 non-null   int64   \n",
            " 6   On the go      3922 non-null   int64   \n",
            " 7   nan            3922 non-null   int64   \n",
            " 8   favorite       3922 non-null   category\n",
            " 9   style          3905 non-null   category\n",
            " 10  strength       3869 non-null   category\n",
            " 11  roast_level    3889 non-null   category\n",
            " 12  caffeine       3870 non-null   category\n",
            " 13  expertise      3888 non-null   category\n",
            "dtypes: category(8), int64(6)\n",
            "memory usage: 376.5 KB\n"
          ]
        }
      ]
    },
    {
      "cell_type": "code",
      "source": [
        "#one-hot encoding\n",
        "one_hot_cols = [ 'cups', 'favorite', 'style']\n",
        "\n",
        "taster_background_encoded = pd.get_dummies(taster_background, columns=one_hot_cols)"
      ],
      "metadata": {
        "id": "unxC1pn1Q6DX"
      },
      "execution_count": null,
      "outputs": []
    },
    {
      "cell_type": "code",
      "source": [
        "#label encoding\n",
        "from sklearn.preprocessing import LabelEncoder\n",
        "label_cols = ['age', 'strength', 'roast_level', 'caffeine', 'expertise']\n",
        "\n",
        "label_encoder = LabelEncoder()\n",
        "taster_background_encoded[label_cols] = taster_background_encoded[label_cols].apply(label_encoder.fit_transform)"
      ],
      "metadata": {
        "id": "stav9wwfTQTM"
      },
      "execution_count": null,
      "outputs": []
    },
    {
      "cell_type": "code",
      "source": [
        "taster_background_encoded.head()"
      ],
      "metadata": {
        "colab": {
          "base_uri": "https://localhost:8080/",
          "height": 290
        },
        "id": "qieoCXLxUE_I",
        "outputId": "5e25c6df-e1e2-4682-8b49-7842918efa00"
      },
      "execution_count": null,
      "outputs": [
        {
          "output_type": "execute_result",
          "data": {
            "text/plain": [
              "    age  At a cafe  At home  At the office  None of these  On the go  nan  \\\n",
              "8     1          1        0              0              0          0    0   \n",
              "13    5          1        1              1              0          1    0   \n",
              "14    1          0        0              1              0          0    0   \n",
              "15    5          1        1              1              0          0    0   \n",
              "16    6          1        0              1              0          0    0   \n",
              "\n",
              "    strength  roast_level  caffeine  ...  style_Bright  style_Caramalized  \\\n",
              "8          5            7         3  ...         False              False   \n",
              "13         1            4         1  ...         False              False   \n",
              "14         2            4         1  ...         False              False   \n",
              "15         0            4         1  ...          True              False   \n",
              "16         2            0         1  ...         False              False   \n",
              "\n",
              "    style_Chocolatey  style_Floral  style_Fruity  style_Full Bodied  \\\n",
              "8              False         False         False              False   \n",
              "13             False         False         False               True   \n",
              "14             False         False          True              False   \n",
              "15             False         False         False              False   \n",
              "16             False         False          True              False   \n",
              "\n",
              "    style_Juicy  style_Light  style_Nutty  style_Sweet  \n",
              "8         False         True        False        False  \n",
              "13        False        False        False        False  \n",
              "14        False        False        False        False  \n",
              "15        False        False        False        False  \n",
              "16        False        False        False        False  \n",
              "\n",
              "[5 rows x 40 columns]"
            ],
            "text/html": [
              "\n",
              "  <div id=\"df-8ac2adbb-b0fc-4624-992f-52674c01a302\" class=\"colab-df-container\">\n",
              "    <div>\n",
              "<style scoped>\n",
              "    .dataframe tbody tr th:only-of-type {\n",
              "        vertical-align: middle;\n",
              "    }\n",
              "\n",
              "    .dataframe tbody tr th {\n",
              "        vertical-align: top;\n",
              "    }\n",
              "\n",
              "    .dataframe thead th {\n",
              "        text-align: right;\n",
              "    }\n",
              "</style>\n",
              "<table border=\"1\" class=\"dataframe\">\n",
              "  <thead>\n",
              "    <tr style=\"text-align: right;\">\n",
              "      <th></th>\n",
              "      <th>age</th>\n",
              "      <th>At a cafe</th>\n",
              "      <th>At home</th>\n",
              "      <th>At the office</th>\n",
              "      <th>None of these</th>\n",
              "      <th>On the go</th>\n",
              "      <th>nan</th>\n",
              "      <th>strength</th>\n",
              "      <th>roast_level</th>\n",
              "      <th>caffeine</th>\n",
              "      <th>...</th>\n",
              "      <th>style_Bright</th>\n",
              "      <th>style_Caramalized</th>\n",
              "      <th>style_Chocolatey</th>\n",
              "      <th>style_Floral</th>\n",
              "      <th>style_Fruity</th>\n",
              "      <th>style_Full Bodied</th>\n",
              "      <th>style_Juicy</th>\n",
              "      <th>style_Light</th>\n",
              "      <th>style_Nutty</th>\n",
              "      <th>style_Sweet</th>\n",
              "    </tr>\n",
              "  </thead>\n",
              "  <tbody>\n",
              "    <tr>\n",
              "      <th>8</th>\n",
              "      <td>1</td>\n",
              "      <td>1</td>\n",
              "      <td>0</td>\n",
              "      <td>0</td>\n",
              "      <td>0</td>\n",
              "      <td>0</td>\n",
              "      <td>0</td>\n",
              "      <td>5</td>\n",
              "      <td>7</td>\n",
              "      <td>3</td>\n",
              "      <td>...</td>\n",
              "      <td>False</td>\n",
              "      <td>False</td>\n",
              "      <td>False</td>\n",
              "      <td>False</td>\n",
              "      <td>False</td>\n",
              "      <td>False</td>\n",
              "      <td>False</td>\n",
              "      <td>True</td>\n",
              "      <td>False</td>\n",
              "      <td>False</td>\n",
              "    </tr>\n",
              "    <tr>\n",
              "      <th>13</th>\n",
              "      <td>5</td>\n",
              "      <td>1</td>\n",
              "      <td>1</td>\n",
              "      <td>1</td>\n",
              "      <td>0</td>\n",
              "      <td>1</td>\n",
              "      <td>0</td>\n",
              "      <td>1</td>\n",
              "      <td>4</td>\n",
              "      <td>1</td>\n",
              "      <td>...</td>\n",
              "      <td>False</td>\n",
              "      <td>False</td>\n",
              "      <td>False</td>\n",
              "      <td>False</td>\n",
              "      <td>False</td>\n",
              "      <td>True</td>\n",
              "      <td>False</td>\n",
              "      <td>False</td>\n",
              "      <td>False</td>\n",
              "      <td>False</td>\n",
              "    </tr>\n",
              "    <tr>\n",
              "      <th>14</th>\n",
              "      <td>1</td>\n",
              "      <td>0</td>\n",
              "      <td>0</td>\n",
              "      <td>1</td>\n",
              "      <td>0</td>\n",
              "      <td>0</td>\n",
              "      <td>0</td>\n",
              "      <td>2</td>\n",
              "      <td>4</td>\n",
              "      <td>1</td>\n",
              "      <td>...</td>\n",
              "      <td>False</td>\n",
              "      <td>False</td>\n",
              "      <td>False</td>\n",
              "      <td>False</td>\n",
              "      <td>True</td>\n",
              "      <td>False</td>\n",
              "      <td>False</td>\n",
              "      <td>False</td>\n",
              "      <td>False</td>\n",
              "      <td>False</td>\n",
              "    </tr>\n",
              "    <tr>\n",
              "      <th>15</th>\n",
              "      <td>5</td>\n",
              "      <td>1</td>\n",
              "      <td>1</td>\n",
              "      <td>1</td>\n",
              "      <td>0</td>\n",
              "      <td>0</td>\n",
              "      <td>0</td>\n",
              "      <td>0</td>\n",
              "      <td>4</td>\n",
              "      <td>1</td>\n",
              "      <td>...</td>\n",
              "      <td>True</td>\n",
              "      <td>False</td>\n",
              "      <td>False</td>\n",
              "      <td>False</td>\n",
              "      <td>False</td>\n",
              "      <td>False</td>\n",
              "      <td>False</td>\n",
              "      <td>False</td>\n",
              "      <td>False</td>\n",
              "      <td>False</td>\n",
              "    </tr>\n",
              "    <tr>\n",
              "      <th>16</th>\n",
              "      <td>6</td>\n",
              "      <td>1</td>\n",
              "      <td>0</td>\n",
              "      <td>1</td>\n",
              "      <td>0</td>\n",
              "      <td>0</td>\n",
              "      <td>0</td>\n",
              "      <td>2</td>\n",
              "      <td>0</td>\n",
              "      <td>1</td>\n",
              "      <td>...</td>\n",
              "      <td>False</td>\n",
              "      <td>False</td>\n",
              "      <td>False</td>\n",
              "      <td>False</td>\n",
              "      <td>True</td>\n",
              "      <td>False</td>\n",
              "      <td>False</td>\n",
              "      <td>False</td>\n",
              "      <td>False</td>\n",
              "      <td>False</td>\n",
              "    </tr>\n",
              "  </tbody>\n",
              "</table>\n",
              "<p>5 rows × 40 columns</p>\n",
              "</div>\n",
              "    <div class=\"colab-df-buttons\">\n",
              "\n",
              "  <div class=\"colab-df-container\">\n",
              "    <button class=\"colab-df-convert\" onclick=\"convertToInteractive('df-8ac2adbb-b0fc-4624-992f-52674c01a302')\"\n",
              "            title=\"Convert this dataframe to an interactive table.\"\n",
              "            style=\"display:none;\">\n",
              "\n",
              "  <svg xmlns=\"http://www.w3.org/2000/svg\" height=\"24px\" viewBox=\"0 -960 960 960\">\n",
              "    <path d=\"M120-120v-720h720v720H120Zm60-500h600v-160H180v160Zm220 220h160v-160H400v160Zm0 220h160v-160H400v160ZM180-400h160v-160H180v160Zm440 0h160v-160H620v160ZM180-180h160v-160H180v160Zm440 0h160v-160H620v160Z\"/>\n",
              "  </svg>\n",
              "    </button>\n",
              "\n",
              "  <style>\n",
              "    .colab-df-container {\n",
              "      display:flex;\n",
              "      gap: 12px;\n",
              "    }\n",
              "\n",
              "    .colab-df-convert {\n",
              "      background-color: #E8F0FE;\n",
              "      border: none;\n",
              "      border-radius: 50%;\n",
              "      cursor: pointer;\n",
              "      display: none;\n",
              "      fill: #1967D2;\n",
              "      height: 32px;\n",
              "      padding: 0 0 0 0;\n",
              "      width: 32px;\n",
              "    }\n",
              "\n",
              "    .colab-df-convert:hover {\n",
              "      background-color: #E2EBFA;\n",
              "      box-shadow: 0px 1px 2px rgba(60, 64, 67, 0.3), 0px 1px 3px 1px rgba(60, 64, 67, 0.15);\n",
              "      fill: #174EA6;\n",
              "    }\n",
              "\n",
              "    .colab-df-buttons div {\n",
              "      margin-bottom: 4px;\n",
              "    }\n",
              "\n",
              "    [theme=dark] .colab-df-convert {\n",
              "      background-color: #3B4455;\n",
              "      fill: #D2E3FC;\n",
              "    }\n",
              "\n",
              "    [theme=dark] .colab-df-convert:hover {\n",
              "      background-color: #434B5C;\n",
              "      box-shadow: 0px 1px 3px 1px rgba(0, 0, 0, 0.15);\n",
              "      filter: drop-shadow(0px 1px 2px rgba(0, 0, 0, 0.3));\n",
              "      fill: #FFFFFF;\n",
              "    }\n",
              "  </style>\n",
              "\n",
              "    <script>\n",
              "      const buttonEl =\n",
              "        document.querySelector('#df-8ac2adbb-b0fc-4624-992f-52674c01a302 button.colab-df-convert');\n",
              "      buttonEl.style.display =\n",
              "        google.colab.kernel.accessAllowed ? 'block' : 'none';\n",
              "\n",
              "      async function convertToInteractive(key) {\n",
              "        const element = document.querySelector('#df-8ac2adbb-b0fc-4624-992f-52674c01a302');\n",
              "        const dataTable =\n",
              "          await google.colab.kernel.invokeFunction('convertToInteractive',\n",
              "                                                    [key], {});\n",
              "        if (!dataTable) return;\n",
              "\n",
              "        const docLinkHtml = 'Like what you see? Visit the ' +\n",
              "          '<a target=\"_blank\" href=https://colab.research.google.com/notebooks/data_table.ipynb>data table notebook</a>'\n",
              "          + ' to learn more about interactive tables.';\n",
              "        element.innerHTML = '';\n",
              "        dataTable['output_type'] = 'display_data';\n",
              "        await google.colab.output.renderOutput(dataTable, element);\n",
              "        const docLink = document.createElement('div');\n",
              "        docLink.innerHTML = docLinkHtml;\n",
              "        element.appendChild(docLink);\n",
              "      }\n",
              "    </script>\n",
              "  </div>\n",
              "\n",
              "\n",
              "<div id=\"df-6d664ed4-7486-4a09-8b83-5d67aa12ac47\">\n",
              "  <button class=\"colab-df-quickchart\" onclick=\"quickchart('df-6d664ed4-7486-4a09-8b83-5d67aa12ac47')\"\n",
              "            title=\"Suggest charts\"\n",
              "            style=\"display:none;\">\n",
              "\n",
              "<svg xmlns=\"http://www.w3.org/2000/svg\" height=\"24px\"viewBox=\"0 0 24 24\"\n",
              "     width=\"24px\">\n",
              "    <g>\n",
              "        <path d=\"M19 3H5c-1.1 0-2 .9-2 2v14c0 1.1.9 2 2 2h14c1.1 0 2-.9 2-2V5c0-1.1-.9-2-2-2zM9 17H7v-7h2v7zm4 0h-2V7h2v10zm4 0h-2v-4h2v4z\"/>\n",
              "    </g>\n",
              "</svg>\n",
              "  </button>\n",
              "\n",
              "<style>\n",
              "  .colab-df-quickchart {\n",
              "      --bg-color: #E8F0FE;\n",
              "      --fill-color: #1967D2;\n",
              "      --hover-bg-color: #E2EBFA;\n",
              "      --hover-fill-color: #174EA6;\n",
              "      --disabled-fill-color: #AAA;\n",
              "      --disabled-bg-color: #DDD;\n",
              "  }\n",
              "\n",
              "  [theme=dark] .colab-df-quickchart {\n",
              "      --bg-color: #3B4455;\n",
              "      --fill-color: #D2E3FC;\n",
              "      --hover-bg-color: #434B5C;\n",
              "      --hover-fill-color: #FFFFFF;\n",
              "      --disabled-bg-color: #3B4455;\n",
              "      --disabled-fill-color: #666;\n",
              "  }\n",
              "\n",
              "  .colab-df-quickchart {\n",
              "    background-color: var(--bg-color);\n",
              "    border: none;\n",
              "    border-radius: 50%;\n",
              "    cursor: pointer;\n",
              "    display: none;\n",
              "    fill: var(--fill-color);\n",
              "    height: 32px;\n",
              "    padding: 0;\n",
              "    width: 32px;\n",
              "  }\n",
              "\n",
              "  .colab-df-quickchart:hover {\n",
              "    background-color: var(--hover-bg-color);\n",
              "    box-shadow: 0 1px 2px rgba(60, 64, 67, 0.3), 0 1px 3px 1px rgba(60, 64, 67, 0.15);\n",
              "    fill: var(--button-hover-fill-color);\n",
              "  }\n",
              "\n",
              "  .colab-df-quickchart-complete:disabled,\n",
              "  .colab-df-quickchart-complete:disabled:hover {\n",
              "    background-color: var(--disabled-bg-color);\n",
              "    fill: var(--disabled-fill-color);\n",
              "    box-shadow: none;\n",
              "  }\n",
              "\n",
              "  .colab-df-spinner {\n",
              "    border: 2px solid var(--fill-color);\n",
              "    border-color: transparent;\n",
              "    border-bottom-color: var(--fill-color);\n",
              "    animation:\n",
              "      spin 1s steps(1) infinite;\n",
              "  }\n",
              "\n",
              "  @keyframes spin {\n",
              "    0% {\n",
              "      border-color: transparent;\n",
              "      border-bottom-color: var(--fill-color);\n",
              "      border-left-color: var(--fill-color);\n",
              "    }\n",
              "    20% {\n",
              "      border-color: transparent;\n",
              "      border-left-color: var(--fill-color);\n",
              "      border-top-color: var(--fill-color);\n",
              "    }\n",
              "    30% {\n",
              "      border-color: transparent;\n",
              "      border-left-color: var(--fill-color);\n",
              "      border-top-color: var(--fill-color);\n",
              "      border-right-color: var(--fill-color);\n",
              "    }\n",
              "    40% {\n",
              "      border-color: transparent;\n",
              "      border-right-color: var(--fill-color);\n",
              "      border-top-color: var(--fill-color);\n",
              "    }\n",
              "    60% {\n",
              "      border-color: transparent;\n",
              "      border-right-color: var(--fill-color);\n",
              "    }\n",
              "    80% {\n",
              "      border-color: transparent;\n",
              "      border-right-color: var(--fill-color);\n",
              "      border-bottom-color: var(--fill-color);\n",
              "    }\n",
              "    90% {\n",
              "      border-color: transparent;\n",
              "      border-bottom-color: var(--fill-color);\n",
              "    }\n",
              "  }\n",
              "</style>\n",
              "\n",
              "  <script>\n",
              "    async function quickchart(key) {\n",
              "      const quickchartButtonEl =\n",
              "        document.querySelector('#' + key + ' button');\n",
              "      quickchartButtonEl.disabled = true;  // To prevent multiple clicks.\n",
              "      quickchartButtonEl.classList.add('colab-df-spinner');\n",
              "      try {\n",
              "        const charts = await google.colab.kernel.invokeFunction(\n",
              "            'suggestCharts', [key], {});\n",
              "      } catch (error) {\n",
              "        console.error('Error during call to suggestCharts:', error);\n",
              "      }\n",
              "      quickchartButtonEl.classList.remove('colab-df-spinner');\n",
              "      quickchartButtonEl.classList.add('colab-df-quickchart-complete');\n",
              "    }\n",
              "    (() => {\n",
              "      let quickchartButtonEl =\n",
              "        document.querySelector('#df-6d664ed4-7486-4a09-8b83-5d67aa12ac47 button');\n",
              "      quickchartButtonEl.style.display =\n",
              "        google.colab.kernel.accessAllowed ? 'block' : 'none';\n",
              "    })();\n",
              "  </script>\n",
              "</div>\n",
              "\n",
              "    </div>\n",
              "  </div>\n"
            ],
            "application/vnd.google.colaboratory.intrinsic+json": {
              "type": "dataframe",
              "variable_name": "taster_background_encoded"
            }
          },
          "metadata": {},
          "execution_count": 30
        }
      ]
    },
    {
      "cell_type": "markdown",
      "source": [
        "##2. Perform Segmentation"
      ],
      "metadata": {
        "id": "vD_TprYbUIpo"
      }
    },
    {
      "cell_type": "code",
      "source": [
        "#select number of segments\n",
        "from sklearn.cluster import KMeans\n",
        "k_values = range(1, 11)\n",
        "inertia_values = []\n",
        "\n",
        "for k in k_values:\n",
        "    kmeans = KMeans(n_clusters=k, random_state=0)\n",
        "    kmeans.fit(taster_background_encoded)\n",
        "    inertia_values.append(kmeans.inertia_)\n",
        "\n",
        "# Plotting the Elbow plot\n",
        "plt.figure(figsize=(8, 5))\n",
        "plt.plot(k_values, inertia_values, 'bo-')\n",
        "plt.xlabel('Number of Clusters (k)')\n",
        "plt.ylabel('Inertia')\n",
        "plt.title('Elbow Method for Optimal k')\n",
        "plt.show()"
      ],
      "metadata": {
        "colab": {
          "base_uri": "https://localhost:8080/",
          "height": 854
        },
        "id": "vuGJCiJBUfSR",
        "outputId": "a018ae83-98aa-4fea-a102-d2996153ed8b"
      },
      "execution_count": null,
      "outputs": [
        {
          "output_type": "stream",
          "name": "stderr",
          "text": [
            "/usr/local/lib/python3.10/dist-packages/sklearn/cluster/_kmeans.py:1416: FutureWarning: The default value of `n_init` will change from 10 to 'auto' in 1.4. Set the value of `n_init` explicitly to suppress the warning\n",
            "  super()._check_params_vs_input(X, default_n_init=10)\n",
            "/usr/local/lib/python3.10/dist-packages/sklearn/cluster/_kmeans.py:1416: FutureWarning: The default value of `n_init` will change from 10 to 'auto' in 1.4. Set the value of `n_init` explicitly to suppress the warning\n",
            "  super()._check_params_vs_input(X, default_n_init=10)\n",
            "/usr/local/lib/python3.10/dist-packages/sklearn/cluster/_kmeans.py:1416: FutureWarning: The default value of `n_init` will change from 10 to 'auto' in 1.4. Set the value of `n_init` explicitly to suppress the warning\n",
            "  super()._check_params_vs_input(X, default_n_init=10)\n",
            "/usr/local/lib/python3.10/dist-packages/sklearn/cluster/_kmeans.py:1416: FutureWarning: The default value of `n_init` will change from 10 to 'auto' in 1.4. Set the value of `n_init` explicitly to suppress the warning\n",
            "  super()._check_params_vs_input(X, default_n_init=10)\n",
            "/usr/local/lib/python3.10/dist-packages/sklearn/cluster/_kmeans.py:1416: FutureWarning: The default value of `n_init` will change from 10 to 'auto' in 1.4. Set the value of `n_init` explicitly to suppress the warning\n",
            "  super()._check_params_vs_input(X, default_n_init=10)\n",
            "/usr/local/lib/python3.10/dist-packages/sklearn/cluster/_kmeans.py:1416: FutureWarning: The default value of `n_init` will change from 10 to 'auto' in 1.4. Set the value of `n_init` explicitly to suppress the warning\n",
            "  super()._check_params_vs_input(X, default_n_init=10)\n",
            "/usr/local/lib/python3.10/dist-packages/sklearn/cluster/_kmeans.py:1416: FutureWarning: The default value of `n_init` will change from 10 to 'auto' in 1.4. Set the value of `n_init` explicitly to suppress the warning\n",
            "  super()._check_params_vs_input(X, default_n_init=10)\n",
            "/usr/local/lib/python3.10/dist-packages/sklearn/cluster/_kmeans.py:1416: FutureWarning: The default value of `n_init` will change from 10 to 'auto' in 1.4. Set the value of `n_init` explicitly to suppress the warning\n",
            "  super()._check_params_vs_input(X, default_n_init=10)\n",
            "/usr/local/lib/python3.10/dist-packages/sklearn/cluster/_kmeans.py:1416: FutureWarning: The default value of `n_init` will change from 10 to 'auto' in 1.4. Set the value of `n_init` explicitly to suppress the warning\n",
            "  super()._check_params_vs_input(X, default_n_init=10)\n",
            "/usr/local/lib/python3.10/dist-packages/sklearn/cluster/_kmeans.py:1416: FutureWarning: The default value of `n_init` will change from 10 to 'auto' in 1.4. Set the value of `n_init` explicitly to suppress the warning\n",
            "  super()._check_params_vs_input(X, default_n_init=10)\n"
          ]
        },
        {
          "output_type": "display_data",
          "data": {
            "text/plain": [
              "<Figure size 800x500 with 1 Axes>"
            ],
            "image/png": "[encoded data removed]"
          },
          "metadata": {}
        }
      ]
    },
    {
      "cell_type": "code",
      "source": [
        "# Apply K-Means Clustering\n",
        "kmeans = KMeans(n_clusters=3, random_state=0)\n",
        "taster_background_encoded['cluster'] = kmeans.fit_predict(taster_background_encoded)"
      ],
      "metadata": {
        "colab": {
          "base_uri": "https://localhost:8080/"
        },
        "id": "j0F8bLu0VL-x",
        "outputId": "85b01751-71a3-45e4-d23b-129cb9a2d813"
      },
      "execution_count": null,
      "outputs": [
        {
          "output_type": "stream",
          "name": "stderr",
          "text": [
            "/usr/local/lib/python3.10/dist-packages/sklearn/cluster/_kmeans.py:1416: FutureWarning: The default value of `n_init` will change from 10 to 'auto' in 1.4. Set the value of `n_init` explicitly to suppress the warning\n",
            "  super()._check_params_vs_input(X, default_n_init=10)\n"
          ]
        }
      ]
    },
    {
      "cell_type": "code",
      "source": [
        "taster_background_encoded['cluster'].value_counts()"
      ],
      "metadata": {
        "colab": {
          "base_uri": "https://localhost:8080/",
          "height": 209
        },
        "id": "47tTfj_mYx5l",
        "outputId": "fe84a9a1-82c3-427e-cb15-0a7cd79f8355"
      },
      "execution_count": null,
      "outputs": [
        {
          "output_type": "execute_result",
          "data": {
            "text/plain": [
              "cluster\n",
              "2    2215\n",
              "1    1216\n",
              "0     491\n",
              "Name: count, dtype: int64"
            ],
            "text/html": [
              "<div>\n",
              "<style scoped>\n",
              "    .dataframe tbody tr th:only-of-type {\n",
              "        vertical-align: middle;\n",
              "    }\n",
              "\n",
              "    .dataframe tbody tr th {\n",
              "        vertical-align: top;\n",
              "    }\n",
              "\n",
              "    .dataframe thead th {\n",
              "        text-align: right;\n",
              "    }\n",
              "</style>\n",
              "<table border=\"1\" class=\"dataframe\">\n",
              "  <thead>\n",
              "    <tr style=\"text-align: right;\">\n",
              "      <th></th>\n",
              "      <th>count</th>\n",
              "    </tr>\n",
              "    <tr>\n",
              "      <th>cluster</th>\n",
              "      <th></th>\n",
              "    </tr>\n",
              "  </thead>\n",
              "  <tbody>\n",
              "    <tr>\n",
              "      <th>2</th>\n",
              "      <td>2215</td>\n",
              "    </tr>\n",
              "    <tr>\n",
              "      <th>1</th>\n",
              "      <td>1216</td>\n",
              "    </tr>\n",
              "    <tr>\n",
              "      <th>0</th>\n",
              "      <td>491</td>\n",
              "    </tr>\n",
              "  </tbody>\n",
              "</table>\n",
              "</div><br><label><b>dtype:</b> int64</label>"
            ]
          },
          "metadata": {},
          "execution_count": 40
        }
      ]
    },
    {
      "cell_type": "code",
      "source": [
        "segment_summary = taster_background_encoded.groupby('cluster').mean()\n",
        "segment_summary"
      ],
      "metadata": {
        "colab": {
          "base_uri": "https://localhost:8080/",
          "height": 234
        },
        "id": "DnGCJwelY9uU",
        "outputId": "81208149-fc35-42e7-d807-98321c5fbcb9"
      },
      "execution_count": null,
      "outputs": [
        {
          "output_type": "execute_result",
          "data": {
            "text/plain": [
              "              age  At a cafe   At home  At the office  None of these  \\\n",
              "cluster                                                                \n",
              "0        1.940937   0.250509  0.881874       0.368635       0.008147   \n",
              "1        1.606908   0.256579  0.860197       0.318257       0.018914   \n",
              "2        1.439278   0.323251  0.951242       0.377878       0.004063   \n",
              "\n",
              "         On the go       nan  strength  roast_level  caffeine  ...  \\\n",
              "cluster                                                        ...   \n",
              "0         0.197556  0.002037  1.841141     0.894094  1.036660  ...   \n",
              "1         0.175164  0.003289  1.186678     4.615954  1.022204  ...   \n",
              "2         0.174718  0.004966  1.416253     4.449210  1.057336  ...   \n",
              "\n",
              "         style_Bright  style_Caramalized  style_Chocolatey  style_Floral  \\\n",
              "cluster                                                                    \n",
              "0            0.030550           0.079430          0.291242      0.010183   \n",
              "1            0.076480           0.092105          0.183388      0.042763   \n",
              "2            0.107901           0.055982          0.114221      0.059142   \n",
              "\n",
              "         style_Fruity  style_Full Bodied  style_Juicy  style_Light  \\\n",
              "cluster                                                              \n",
              "0            0.028513           0.213849     0.004073     0.000000   \n",
              "1            0.163651           0.144737     0.041941     0.000000   \n",
              "2            0.329571           0.086682     0.097517     0.000451   \n",
              "\n",
              "         style_Nutty  style_Sweet  \n",
              "cluster                            \n",
              "0           0.089613     0.054990  \n",
              "1           0.099507     0.114309  \n",
              "2           0.061400     0.055530  \n",
              "\n",
              "[3 rows x 40 columns]"
            ],
            "text/html": [
              "\n",
              "  <div id=\"df-2558ed7b-fb31-412b-9575-c9f2f6e00fab\" class=\"colab-df-container\">\n",
              "    <div>\n",
              "<style scoped>\n",
              "    .dataframe tbody tr th:only-of-type {\n",
              "        vertical-align: middle;\n",
              "    }\n",
              "\n",
              "    .dataframe tbody tr th {\n",
              "        vertical-align: top;\n",
              "    }\n",
              "\n",
              "    .dataframe thead th {\n",
              "        text-align: right;\n",
              "    }\n",
              "</style>\n",
              "<table border=\"1\" class=\"dataframe\">\n",
              "  <thead>\n",
              "    <tr style=\"text-align: right;\">\n",
              "      <th></th>\n",
              "      <th>age</th>\n",
              "      <th>At a cafe</th>\n",
              "      <th>At home</th>\n",
              "      <th>At the office</th>\n",
              "      <th>None of these</th>\n",
              "      <th>On the go</th>\n",
              "      <th>nan</th>\n",
              "      <th>strength</th>\n",
              "      <th>roast_level</th>\n",
              "      <th>caffeine</th>\n",
              "      <th>...</th>\n",
              "      <th>style_Bright</th>\n",
              "      <th>style_Caramalized</th>\n",
              "      <th>style_Chocolatey</th>\n",
              "      <th>style_Floral</th>\n",
              "      <th>style_Fruity</th>\n",
              "      <th>style_Full Bodied</th>\n",
              "      <th>style_Juicy</th>\n",
              "      <th>style_Light</th>\n",
              "      <th>style_Nutty</th>\n",
              "      <th>style_Sweet</th>\n",
              "    </tr>\n",
              "    <tr>\n",
              "      <th>cluster</th>\n",
              "      <th></th>\n",
              "      <th></th>\n",
              "      <th></th>\n",
              "      <th></th>\n",
              "      <th></th>\n",
              "      <th></th>\n",
              "      <th></th>\n",
              "      <th></th>\n",
              "      <th></th>\n",
              "      <th></th>\n",
              "      <th></th>\n",
              "      <th></th>\n",
              "      <th></th>\n",
              "      <th></th>\n",
              "      <th></th>\n",
              "      <th></th>\n",
              "      <th></th>\n",
              "      <th></th>\n",
              "      <th></th>\n",
              "      <th></th>\n",
              "      <th></th>\n",
              "    </tr>\n",
              "  </thead>\n",
              "  <tbody>\n",
              "    <tr>\n",
              "      <th>0</th>\n",
              "      <td>1.940937</td>\n",
              "      <td>0.250509</td>\n",
              "      <td>0.881874</td>\n",
              "      <td>0.368635</td>\n",
              "      <td>0.008147</td>\n",
              "      <td>0.197556</td>\n",
              "      <td>0.002037</td>\n",
              "      <td>1.841141</td>\n",
              "      <td>0.894094</td>\n",
              "      <td>1.036660</td>\n",
              "      <td>...</td>\n",
              "      <td>0.030550</td>\n",
              "      <td>0.079430</td>\n",
              "      <td>0.291242</td>\n",
              "      <td>0.010183</td>\n",
              "      <td>0.028513</td>\n",
              "      <td>0.213849</td>\n",
              "      <td>0.004073</td>\n",
              "      <td>0.000000</td>\n",
              "      <td>0.089613</td>\n",
              "      <td>0.054990</td>\n",
              "    </tr>\n",
              "    <tr>\n",
              "      <th>1</th>\n",
              "      <td>1.606908</td>\n",
              "      <td>0.256579</td>\n",
              "      <td>0.860197</td>\n",
              "      <td>0.318257</td>\n",
              "      <td>0.018914</td>\n",
              "      <td>0.175164</td>\n",
              "      <td>0.003289</td>\n",
              "      <td>1.186678</td>\n",
              "      <td>4.615954</td>\n",
              "      <td>1.022204</td>\n",
              "      <td>...</td>\n",
              "      <td>0.076480</td>\n",
              "      <td>0.092105</td>\n",
              "      <td>0.183388</td>\n",
              "      <td>0.042763</td>\n",
              "      <td>0.163651</td>\n",
              "      <td>0.144737</td>\n",
              "      <td>0.041941</td>\n",
              "      <td>0.000000</td>\n",
              "      <td>0.099507</td>\n",
              "      <td>0.114309</td>\n",
              "    </tr>\n",
              "    <tr>\n",
              "      <th>2</th>\n",
              "      <td>1.439278</td>\n",
              "      <td>0.323251</td>\n",
              "      <td>0.951242</td>\n",
              "      <td>0.377878</td>\n",
              "      <td>0.004063</td>\n",
              "      <td>0.174718</td>\n",
              "      <td>0.004966</td>\n",
              "      <td>1.416253</td>\n",
              "      <td>4.449210</td>\n",
              "      <td>1.057336</td>\n",
              "      <td>...</td>\n",
              "      <td>0.107901</td>\n",
              "      <td>0.055982</td>\n",
              "      <td>0.114221</td>\n",
              "      <td>0.059142</td>\n",
              "      <td>0.329571</td>\n",
              "      <td>0.086682</td>\n",
              "      <td>0.097517</td>\n",
              "      <td>0.000451</td>\n",
              "      <td>0.061400</td>\n",
              "      <td>0.055530</td>\n",
              "    </tr>\n",
              "  </tbody>\n",
              "</table>\n",
              "<p>3 rows × 40 columns</p>\n",
              "</div>\n",
              "    <div class=\"colab-df-buttons\">\n",
              "\n",
              "  <div class=\"colab-df-container\">\n",
              "    <button class=\"colab-df-convert\" onclick=\"convertToInteractive('df-2558ed7b-fb31-412b-9575-c9f2f6e00fab')\"\n",
              "            title=\"Convert this dataframe to an interactive table.\"\n",
              "            style=\"display:none;\">\n",
              "\n",
              "  <svg xmlns=\"http://www.w3.org/2000/svg\" height=\"24px\" viewBox=\"0 -960 960 960\">\n",
              "    <path d=\"M120-120v-720h720v720H120Zm60-500h600v-160H180v160Zm220 220h160v-160H400v160Zm0 220h160v-160H400v160ZM180-400h160v-160H180v160Zm440 0h160v-160H620v160ZM180-180h160v-160H180v160Zm440 0h160v-160H620v160Z\"/>\n",
              "  </svg>\n",
              "    </button>\n",
              "\n",
              "  <style>\n",
              "    .colab-df-container {\n",
              "      display:flex;\n",
              "      gap: 12px;\n",
              "    }\n",
              "\n",
              "    .colab-df-convert {\n",
              "      background-color: #E8F0FE;\n",
              "      border: none;\n",
              "      border-radius: 50%;\n",
              "      cursor: pointer;\n",
              "      display: none;\n",
              "      fill: #1967D2;\n",
              "      height: 32px;\n",
              "      padding: 0 0 0 0;\n",
              "      width: 32px;\n",
              "    }\n",
              "\n",
              "    .colab-df-convert:hover {\n",
              "      background-color: #E2EBFA;\n",
              "      box-shadow: 0px 1px 2px rgba(60, 64, 67, 0.3), 0px 1px 3px 1px rgba(60, 64, 67, 0.15);\n",
              "      fill: #174EA6;\n",
              "    }\n",
              "\n",
              "    .colab-df-buttons div {\n",
              "      margin-bottom: 4px;\n",
              "    }\n",
              "\n",
              "    [theme=dark] .colab-df-convert {\n",
              "      background-color: #3B4455;\n",
              "      fill: #D2E3FC;\n",
              "    }\n",
              "\n",
              "    [theme=dark] .colab-df-convert:hover {\n",
              "      background-color: #434B5C;\n",
              "      box-shadow: 0px 1px 3px 1px rgba(0, 0, 0, 0.15);\n",
              "      filter: drop-shadow(0px 1px 2px rgba(0, 0, 0, 0.3));\n",
              "      fill: #FFFFFF;\n",
              "    }\n",
              "  </style>\n",
              "\n",
              "    <script>\n",
              "      const buttonEl =\n",
              "        document.querySelector('#df-2558ed7b-fb31-412b-9575-c9f2f6e00fab button.colab-df-convert');\n",
              "      buttonEl.style.display =\n",
              "        google.colab.kernel.accessAllowed ? 'block' : 'none';\n",
              "\n",
              "      async function convertToInteractive(key) {\n",
              "        const element = document.querySelector('#df-2558ed7b-fb31-412b-9575-c9f2f6e00fab');\n",
              "        const dataTable =\n",
              "          await google.colab.kernel.invokeFunction('convertToInteractive',\n",
              "                                                    [key], {});\n",
              "        if (!dataTable) return;\n",
              "\n",
              "        const docLinkHtml = 'Like what you see? Visit the ' +\n",
              "          '<a target=\"_blank\" href=https://colab.research.google.com/notebooks/data_table.ipynb>data table notebook</a>'\n",
              "          + ' to learn more about interactive tables.';\n",
              "        element.innerHTML = '';\n",
              "        dataTable['output_type'] = 'display_data';\n",
              "        await google.colab.output.renderOutput(dataTable, element);\n",
              "        const docLink = document.createElement('div');\n",
              "        docLink.innerHTML = docLinkHtml;\n",
              "        element.appendChild(docLink);\n",
              "      }\n",
              "    </script>\n",
              "  </div>\n",
              "\n",
              "\n",
              "<div id=\"df-80aa02a7-2120-4be3-ba59-43cffc96bfcf\">\n",
              "  <button class=\"colab-df-quickchart\" onclick=\"quickchart('df-80aa02a7-2120-4be3-ba59-43cffc96bfcf')\"\n",
              "            title=\"Suggest charts\"\n",
              "            style=\"display:none;\">\n",
              "\n",
              "<svg xmlns=\"http://www.w3.org/2000/svg\" height=\"24px\"viewBox=\"0 0 24 24\"\n",
              "     width=\"24px\">\n",
              "    <g>\n",
              "        <path d=\"M19 3H5c-1.1 0-2 .9-2 2v14c0 1.1.9 2 2 2h14c1.1 0 2-.9 2-2V5c0-1.1-.9-2-2-2zM9 17H7v-7h2v7zm4 0h-2V7h2v10zm4 0h-2v-4h2v4z\"/>\n",
              "    </g>\n",
              "</svg>\n",
              "  </button>\n",
              "\n",
              "<style>\n",
              "  .colab-df-quickchart {\n",
              "      --bg-color: #E8F0FE;\n",
              "      --fill-color: #1967D2;\n",
              "      --hover-bg-color: #E2EBFA;\n",
              "      --hover-fill-color: #174EA6;\n",
              "      --disabled-fill-color: #AAA;\n",
              "      --disabled-bg-color: #DDD;\n",
              "  }\n",
              "\n",
              "  [theme=dark] .colab-df-quickchart {\n",
              "      --bg-color: #3B4455;\n",
              "      --fill-color: #D2E3FC;\n",
              "      --hover-bg-color: #434B5C;\n",
              "      --hover-fill-color: #FFFFFF;\n",
              "      --disabled-bg-color: #3B4455;\n",
              "      --disabled-fill-color: #666;\n",
              "  }\n",
              "\n",
              "  .colab-df-quickchart {\n",
              "    background-color: var(--bg-color);\n",
              "    border: none;\n",
              "    border-radius: 50%;\n",
              "    cursor: pointer;\n",
              "    display: none;\n",
              "    fill: var(--fill-color);\n",
              "    height: 32px;\n",
              "    padding: 0;\n",
              "    width: 32px;\n",
              "  }\n",
              "\n",
              "  .colab-df-quickchart:hover {\n",
              "    background-color: var(--hover-bg-color);\n",
              "    box-shadow: 0 1px 2px rgba(60, 64, 67, 0.3), 0 1px 3px 1px rgba(60, 64, 67, 0.15);\n",
              "    fill: var(--button-hover-fill-color);\n",
              "  }\n",
              "\n",
              "  .colab-df-quickchart-complete:disabled,\n",
              "  .colab-df-quickchart-complete:disabled:hover {\n",
              "    background-color: var(--disabled-bg-color);\n",
              "    fill: var(--disabled-fill-color);\n",
              "    box-shadow: none;\n",
              "  }\n",
              "\n",
              "  .colab-df-spinner {\n",
              "    border: 2px solid var(--fill-color);\n",
              "    border-color: transparent;\n",
              "    border-bottom-color: var(--fill-color);\n",
              "    animation:\n",
              "      spin 1s steps(1) infinite;\n",
              "  }\n",
              "\n",
              "  @keyframes spin {\n",
              "    0% {\n",
              "      border-color: transparent;\n",
              "      border-bottom-color: var(--fill-color);\n",
              "      border-left-color: var(--fill-color);\n",
              "    }\n",
              "    20% {\n",
              "      border-color: transparent;\n",
              "      border-left-color: var(--fill-color);\n",
              "      border-top-color: var(--fill-color);\n",
              "    }\n",
              "    30% {\n",
              "      border-color: transparent;\n",
              "      border-left-color: var(--fill-color);\n",
              "      border-top-color: var(--fill-color);\n",
              "      border-right-color: var(--fill-color);\n",
              "    }\n",
              "    40% {\n",
              "      border-color: transparent;\n",
              "      border-right-color: var(--fill-color);\n",
              "      border-top-color: var(--fill-color);\n",
              "    }\n",
              "    60% {\n",
              "      border-color: transparent;\n",
              "      border-right-color: var(--fill-color);\n",
              "    }\n",
              "    80% {\n",
              "      border-color: transparent;\n",
              "      border-right-color: var(--fill-color);\n",
              "      border-bottom-color: var(--fill-color);\n",
              "    }\n",
              "    90% {\n",
              "      border-color: transparent;\n",
              "      border-bottom-color: var(--fill-color);\n",
              "    }\n",
              "  }\n",
              "</style>\n",
              "\n",
              "  <script>\n",
              "    async function quickchart(key) {\n",
              "      const quickchartButtonEl =\n",
              "        document.querySelector('#' + key + ' button');\n",
              "      quickchartButtonEl.disabled = true;  // To prevent multiple clicks.\n",
              "      quickchartButtonEl.classList.add('colab-df-spinner');\n",
              "      try {\n",
              "        const charts = await google.colab.kernel.invokeFunction(\n",
              "            'suggestCharts', [key], {});\n",
              "      } catch (error) {\n",
              "        console.error('Error during call to suggestCharts:', error);\n",
              "      }\n",
              "      quickchartButtonEl.classList.remove('colab-df-spinner');\n",
              "      quickchartButtonEl.classList.add('colab-df-quickchart-complete');\n",
              "    }\n",
              "    (() => {\n",
              "      let quickchartButtonEl =\n",
              "        document.querySelector('#df-80aa02a7-2120-4be3-ba59-43cffc96bfcf button');\n",
              "      quickchartButtonEl.style.display =\n",
              "        google.colab.kernel.accessAllowed ? 'block' : 'none';\n",
              "    })();\n",
              "  </script>\n",
              "</div>\n",
              "\n",
              "  <div id=\"id_99882d22-5e0d-471a-b117-dfea400319c5\">\n",
              "    <style>\n",
              "      .colab-df-generate {\n",
              "        background-color: #E8F0FE;\n",
              "        border: none;\n",
              "        border-radius: 50%;\n",
              "        cursor: pointer;\n",
              "        display: none;\n",
              "        fill: #1967D2;\n",
              "        height: 32px;\n",
              "        padding: 0 0 0 0;\n",
              "        width: 32px;\n",
              "      }\n",
              "\n",
              "      .colab-df-generate:hover {\n",
              "        background-color: #E2EBFA;\n",
              "        box-shadow: 0px 1px 2px rgba(60, 64, 67, 0.3), 0px 1px 3px 1px rgba(60, 64, 67, 0.15);\n",
              "        fill: #174EA6;\n",
              "      }\n",
              "\n",
              "      [theme=dark] .colab-df-generate {\n",
              "        background-color: #3B4455;\n",
              "        fill: #D2E3FC;\n",
              "      }\n",
              "\n",
              "      [theme=dark] .colab-df-generate:hover {\n",
              "        background-color: #434B5C;\n",
              "        box-shadow: 0px 1px 3px 1px rgba(0, 0, 0, 0.15);\n",
              "        filter: drop-shadow(0px 1px 2px rgba(0, 0, 0, 0.3));\n",
              "        fill: #FFFFFF;\n",
              "      }\n",
              "    </style>\n",
              "    <button class=\"colab-df-generate\" onclick=\"generateWithVariable('segment_summary')\"\n",
              "            title=\"Generate code using this dataframe.\"\n",
              "            style=\"display:none;\">\n",
              "\n",
              "  <svg xmlns=\"http://www.w3.org/2000/svg\" height=\"24px\"viewBox=\"0 0 24 24\"\n",
              "       width=\"24px\">\n",
              "    <path d=\"M7,19H8.4L18.45,9,17,7.55,7,17.6ZM5,21V16.75L18.45,3.32a2,2,0,0,1,2.83,0l1.4,1.43a1.91,1.91,0,0,1,.58,1.4,1.91,1.91,0,0,1-.58,1.4L9.25,21ZM18.45,9,17,7.55Zm-12,3A5.31,5.31,0,0,0,4.9,8.1,5.31,5.31,0,0,0,1,6.5,5.31,5.31,0,0,0,4.9,4.9,5.31,5.31,0,0,0,6.5,1,5.31,5.31,0,0,0,8.1,4.9,5.31,5.31,0,0,0,12,6.5,5.46,5.46,0,0,0,6.5,12Z\"/>\n",
              "  </svg>\n",
              "    </button>\n",
              "    <script>\n",
              "      (() => {\n",
              "      const buttonEl =\n",
              "        document.querySelector('#id_99882d22-5e0d-471a-b117-dfea400319c5 button.colab-df-generate');\n",
              "      buttonEl.style.display =\n",
              "        google.colab.kernel.accessAllowed ? 'block' : 'none';\n",
              "\n",
              "      buttonEl.onclick = () => {\n",
              "        google.colab.notebook.generateWithVariable('segment_summary');\n",
              "      }\n",
              "      })();\n",
              "    </script>\n",
              "  </div>\n",
              "\n",
              "    </div>\n",
              "  </div>\n"
            ],
            "application/vnd.google.colaboratory.intrinsic+json": {
              "type": "dataframe",
              "variable_name": "segment_summary"
            }
          },
          "metadata": {},
          "execution_count": 41
        },
        {
          "output_type": "stream",
          "name": "stdout",
          "text": [
            "Warning: Total number of columns (40) exceeds max_columns (20) limiting to first (20) columns.\n"
          ]
        }
      ]
    },
    {
      "cell_type": "markdown",
      "source": [
        "##3. Analyzing Each Segment"
      ],
      "metadata": {
        "id": "3UX390oIoToe"
      }
    },
    {
      "cell_type": "markdown",
      "source": [
        "- **Cluster 0:** might be younger coffee drinkers who prefer drinking coffee at home.\n",
        "- **Cluster 1:** could represent office workers who drink multiple cups of strong coffee throughout the day.\n",
        "- **Cluster 2:** might include coffee enthusiasts who prefer specific brew methods and have a refined taste for certain coffee types."
      ],
      "metadata": {
        "id": "p_RZ4VGjoZtJ"
      }
    },
    {
      "cell_type": "markdown",
      "source": [
        "#Customer Persona Development"
      ],
      "metadata": {
        "id": "DVyDaG4gqU9X"
      }
    },
    {
      "cell_type": "markdown",
      "source": [
        "For each cluster, create a persona by summarizing their key characteristics. This involves interpreting the average values and distributions for each feature in the cluster."
      ],
      "metadata": {
        "id": "CXPximEOtCdW"
      }
    },
    {
      "cell_type": "markdown",
      "source": [
        "##1. Customer Persona Template"
      ],
      "metadata": {
        "id": "Y-qtJWfCqWbV"
      }
    },
    {
      "cell_type": "markdown",
      "source": [
        "Each persona will include:\n",
        "- **Demographics:** Age, gender, etc.\n",
        "- **Behavior:** Drinking habits, preferred locations, etc.\n",
        "- **Preferences:** Coffee strength, roast level, favorite types.\n",
        "- **Challenges/Needs:** What might this persona be looking for in a coffee product or experience?"
      ],
      "metadata": {
        "id": "7pv3xSaIqdSv"
      }
    },
    {
      "cell_type": "markdown",
      "source": [
        "##2. Personas"
      ],
      "metadata": {
        "id": "l9v1NSUgqzbj"
      }
    },
    {
      "cell_type": "markdown",
      "source": [
        "**Persona 1: The Home Coffee Enthusiast**\n",
        "- Demographics:\n",
        "  - Age: 30-40\n",
        "  - Typically drinks coffee at home\n",
        "- Behavior:\n",
        "  - Drinks 2-3 cups per day\n",
        "  - Prefers strong coffee\n",
        "- Preferences:\n",
        "  - Likes medium to dark roast\n",
        "  - Enjoys experimenting with different brewing methods (e.g., pour-over, French press)\n",
        "  - Favorite coffee type: Americano or Cappuccino\n",
        "- Challenges/Needs:\n",
        "  - Interested in high-quality beans and brewing equipment\n",
        "  - Values variety and unique flavors\n",
        "\n",
        "**Persona 2: The Office Coffee Drinker**\n",
        "- Demographics:\n",
        "  - Age: 25-35\n",
        "  - Drinks coffee at the office\n",
        "- Behavior:\n",
        "  - Drinks 4-5 cups per day\n",
        "  - Prefers moderate strength\n",
        "- Preferences:\n",
        "  - Light to medium roast\n",
        "  - Often drinks coffee with milk or cream\n",
        "  - Favorite coffee type: Blended drink (e.g., Frappuccino)\n",
        "- Challenges/Needs:\n",
        "  - Looking for convenience and affordability\n",
        "  - Interested in bulk buying options\n",
        "\n",
        "**Persona 3: The Cafe Goer**\n",
        "- Demographics:\n",
        "  - Age: 20-30\n",
        "  - Enjoys coffee at cafes\n",
        "- Behavior:\n",
        "  - Drinks 1-2 cups per day\n",
        "  - Prefers coffee with unique flavors\n",
        "- Preferences:\n",
        "  - Medium roast\n",
        "  - Enjoys trying new coffee drinks\n",
        "  - Favorite coffee type: Specialty drinks or seasonal flavors\n",
        "- Challenges/Needs:\n",
        "  - Looking for premium experiences and new flavors\n",
        "  - Interested in trendy coffee options"
      ],
      "metadata": {
        "id": "ZZGoPU8yq9b1"
      }
    },
    {
      "cell_type": "markdown",
      "source": [
        "#Taster Preferences Correlation"
      ],
      "metadata": {
        "id": "9NTfv_An3fA6"
      }
    },
    {
      "cell_type": "code",
      "source": [
        "taster_preferences_cols = ['coffee_a_bitterness', 'coffee_a_acidity', 'coffee_a_personal_preference', 'coffee_b_bitterness', 'coffee_b_acidity', 'coffee_b_personal_preference', 'coffee_c_bitterness', 'coffee_c_acidity', 'coffee_c_personal_preference', 'coffee_d_bitterness', 'coffee_d_acidity', 'coffee_d_personal_preference']\n",
        "taster_preferences = df[taster_preferences_cols]"
      ],
      "metadata": {
        "id": "N4R1K7Uz3r7y"
      },
      "execution_count": null,
      "outputs": []
    },
    {
      "cell_type": "code",
      "source": [
        "# Calculate the Pearson correlation matrix\n",
        "correlation_matrix = taster_preferences.corr()"
      ],
      "metadata": {
        "id": "smBCQktd4JSB"
      },
      "execution_count": null,
      "outputs": []
    },
    {
      "cell_type": "code",
      "source": [
        "# Plotting the correlation matrix\n",
        "plt.figure(figsize=(10, 8))\n",
        "sns.heatmap(correlation_matrix, annot=True, cmap='coolwarm', linewidths=0.5)\n",
        "plt.title('Correlation Matrix')\n",
        "plt.show()"
      ],
      "metadata": {
        "colab": {
          "base_uri": "https://localhost:8080/",
          "height": 893
        },
        "id": "o-eriQDX4wbr",
        "outputId": "141602e3-6130-40d3-f922-8450403ab1be"
      },
      "execution_count": null,
      "outputs": [
        {
          "output_type": "display_data",
          "data": {
            "text/plain": [
              "<Figure size 1000x800 with 2 Axes>"
            ],
            "image/png": "[encoded data removed]"
          },
          "metadata": {}
        }
      ]
    },
    {
      "cell_type": "markdown",
      "source": [
        "1. **Understanding the Correlation Matrix**\n",
        "- Correlation Values:\n",
        "  - Correlation coefficients range from -1 to 1.\n",
        "  - +1: Perfect positive correlation (as one variable increases, the other also increases).\n",
        "  - -1: Perfect negative correlation (as one variable increases, the other decreases).\n",
        "  - 0: No correlation.\n",
        "\n",
        "2. **Key Observations**\n",
        "- Negative Correlations:\n",
        "\n",
        "  - coffee_c_personal_preference and coffee_a_personal_preference have a strong negative correlation (-0.267572). This suggests that participants who prefer Coffee C are less likely to prefer Coffee A.\n",
        "  - coffee_d_personal_preference and coffee_b_personal_preference have a strong negative correlation (-0.354810), indicating a similar trend between Coffees D and B.\n",
        "- Positive Correlations:\n",
        "\n",
        "  - coffee_c_personal_preference and coffee_d_bitterness show a moderate positive correlation (0.144883), suggesting that those who prefer Coffee C might also appreciate the bitterness in Coffee D.\n",
        "  - coffee_a_personal_preference and coffee_d_personal_preference have a moderately positive correlation (0.252598), implying some overlap in preferences for Coffees A and D.\n",
        "- Bitterness and Acidity:\n",
        "\n",
        "  - coffee_c_bitterness and coffee_b_bitterness have a positive correlation (0.183945), which suggests that the bitterness levels in these coffees might be perceived similarly by the participants.\n",
        "  - The bitterness and acidity correlations within the same coffee (e.g., coffee_a_bitterness with coffee_a_acidity) are generally low, indicating that these attributes are perceived independently.\n",
        "\n",
        "3. **Detailed Analysis**\n",
        "- Personal Preference Analysis:\n",
        "\n",
        "  - The negative correlation between coffee_b_personal_preference and coffee_d_personal_preference (-0.354810) is particularly interesting. It suggests a clear divide in the participants' preferences between these two coffees. This could be due to significant differences in their flavor profiles, such as bitterness or acidity.\n",
        "- Cross-Attribute Correlation:\n",
        "\n",
        "  - For Coffee C, coffee_c_bitterness and coffee_c_acidity are negatively correlated (-0.084768), which could indicate that participants who found Coffee C bitter did not find it acidic, and vice versa.\n",
        "Consistency in Ratings:\n",
        "\n",
        "  - The correlations between the same attributes across different coffees (e.g., coffee_a_bitterness with coffee_b_bitterness) show varying levels of correlation, suggesting that participants might be consistent in their perception of bitterness across different samples.\n",
        "\n",
        "4. **Insights and Actionable Conclusions**\n",
        "- Segmentation: You can use these correlations to segment your participants into distinct preference groups. For instance, those who like Coffee D tend to dislike Coffee B, so these could represent two different target audiences.\n",
        "- Product Development: The strong negative correlations between preferences for different coffees suggest opportunities for product differentiation. For example, developing a new coffee blend that appeals to one of these distinct groups.\n",
        "- Marketing Strategy: The positive correlation between coffee_c_personal_preference and coffee_d_bitterness could inform a marketing strategy that emphasizes bitterness as a key selling point for both coffees."
      ],
      "metadata": {
        "id": "NPXFw8z_5mKD"
      }
    },
    {
      "cell_type": "markdown",
      "source": [
        "#Hypothesis Testing\n"
      ],
      "metadata": {
        "id": "L8CJd7RRaC7g"
      }
    },
    {
      "cell_type": "markdown",
      "source": [
        "Hypothesis Testing is a statistical method used to make inferences or draw conclusions about a population based on sample data\n"
      ],
      "metadata": {
        "id": "A4uo97PUaj1a"
      }
    },
    {
      "cell_type": "markdown",
      "source": [
        "##1. Formulating Hypotheses 1"
      ],
      "metadata": {
        "id": "l6KIHq4val2V"
      }
    },
    {
      "cell_type": "markdown",
      "source": [
        "- H₀: There is no difference in coffee expertise between those who prefer strong coffee and those who do not.\n",
        "- H₁: There is a difference in coffee expertise between those who prefer strong coffee and those who do not."
      ],
      "metadata": {
        "id": "St-fvkoybAKA"
      }
    },
    {
      "cell_type": "markdown",
      "source": [
        "###1.1. Conduct the Test\n",
        "\n",
        "\n",
        "\n",
        "\n",
        "\n"
      ],
      "metadata": {
        "id": "eiYkhXe1dGyX"
      }
    },
    {
      "cell_type": "code",
      "source": [
        "strong_coffee_group = df[df['strength'].isin(['Somewhat strong', 'Very strong'])]['expertise']\n",
        "not_strong_coffee_group = df[df['strength'].isin(['Weak', 'Somewhat light', 'Medium'])]['expertise']\n"
      ],
      "metadata": {
        "id": "Rm7uUaoic_SL"
      },
      "execution_count": null,
      "outputs": []
    },
    {
      "cell_type": "code",
      "source": [
        "strong_coffee_group.dropna(inplace=True)\n",
        "not_strong_coffee_group.dropna(inplace=True)"
      ],
      "metadata": {
        "colab": {
          "base_uri": "https://localhost:8080/"
        },
        "id": "uwxU0JNWi9gy",
        "outputId": "c3c2f994-6bde-4811-c502-ac75552503ff"
      },
      "execution_count": null,
      "outputs": [
        {
          "output_type": "stream",
          "name": "stderr",
          "text": [
            "<ipython-input-58-939932db110b>:1: SettingWithCopyWarning: \n",
            "A value is trying to be set on a copy of a slice from a DataFrame\n",
            "\n",
            "See the caveats in the documentation: https://pandas.pydata.org/pandas-docs/stable/user_guide/indexing.html#returning-a-view-versus-a-copy\n",
            "  strong_coffee_group.dropna(inplace=True)\n",
            "<ipython-input-58-939932db110b>:2: SettingWithCopyWarning: \n",
            "A value is trying to be set on a copy of a slice from a DataFrame\n",
            "\n",
            "See the caveats in the documentation: https://pandas.pydata.org/pandas-docs/stable/user_guide/indexing.html#returning-a-view-versus-a-copy\n",
            "  not_strong_coffee_group.dropna(inplace=True)\n"
          ]
        }
      ]
    },
    {
      "cell_type": "code",
      "source": [
        "sample1 = np.array(strong_coffee_group)\n",
        "sample2 = np.array(not_strong_coffee_group)"
      ],
      "metadata": {
        "id": "Mj7BQDjkhpNj"
      },
      "execution_count": null,
      "outputs": []
    },
    {
      "cell_type": "code",
      "source": [
        "from scipy import stats\n",
        "# Perform the t-test\n",
        "t_statistic, p_value = stats.ttest_ind(sample1, sample2)\n",
        "\n",
        "print(f\"T-statistic: {t_statistic}\")\n",
        "print(f\"P-value: {p_value}\")\n"
      ],
      "metadata": {
        "colab": {
          "base_uri": "https://localhost:8080/"
        },
        "id": "xEdhvuUBh0Wd",
        "outputId": "2d8cade5-b928-4161-c005-6ba68b7b3642"
      },
      "execution_count": null,
      "outputs": [
        {
          "output_type": "stream",
          "name": "stdout",
          "text": [
            "T-statistic: 8.986730910180666\n",
            "P-value: 3.9062683482985667e-19\n"
          ]
        }
      ]
    },
    {
      "cell_type": "markdown",
      "source": [
        "###1.2 Result"
      ],
      "metadata": {
        "id": "yblv0UMRkAaA"
      }
    },
    {
      "cell_type": "markdown",
      "source": [
        "The p-value is extremely small (much less than 0.05), indicating that the result is statistically significant. This means we can **reject** the null hypothesis H₀.\n",
        "\n"
      ],
      "metadata": {
        "id": "OUUs0-UkkCv5"
      }
    },
    {
      "cell_type": "markdown",
      "source": [
        "###1.3 Conclusion"
      ],
      "metadata": {
        "id": "BbLgcntPkSxa"
      }
    },
    {
      "cell_type": "markdown",
      "source": [
        "There is a statistically significant difference in coffee expertise between those who prefer strong coffee (Somewhat strong and Very strong) and those who do not (Weak, Somewhat light, and Medium). The high t-statistic also suggests that the difference between the means of the two groups is substantial."
      ],
      "metadata": {
        "id": "WIgh7l6rkYpc"
      }
    },
    {
      "cell_type": "markdown",
      "source": [
        "##2. Formulating Hypotheses 2"
      ],
      "metadata": {
        "id": "XKbRIpcnkmBm"
      }
    },
    {
      "cell_type": "markdown",
      "source": [
        "H₀: The average amount spent on coffee equipment is equal for all levels of coffee expertise.\n",
        "H₁: The average amount spent on coffee equipment varies across different levels of coffee expertise."
      ],
      "metadata": {
        "id": "0VM82DlDmUhB"
      }
    },
    {
      "cell_type": "markdown",
      "source": [
        "###2.1. Conduct the Test"
      ],
      "metadata": {
        "id": "v8aOUY4Bmes3"
      }
    },
    {
      "cell_type": "code",
      "source": [
        "# Mapping spent_equipment categories to numeric values\n",
        "equipment_mapping = {\n",
        "    'Less than $20': 1,\n",
        "    '$20-$50': 2,\n",
        "    '$50-$100': 3,\n",
        "    '$100-$300': 4,\n",
        "    '$300-$500': 5,\n",
        "    '$500-$1000': 6,\n",
        "    'More than $1,000': 7\n",
        "}\n",
        "\n",
        "df['spent_equipment_numeric'] = df['spent_equipment'].map(equipment_mapping)\n"
      ],
      "metadata": {
        "id": "BG9Z00W5meZm"
      },
      "execution_count": null,
      "outputs": []
    },
    {
      "cell_type": "code",
      "source": [
        "# Group data by expertise levels\n",
        "groups = [group['spent_equipment_numeric'].dropna() for name, group in df.groupby('expertise')]"
      ],
      "metadata": {
        "id": "Ea5UhDCcnW4f"
      },
      "execution_count": null,
      "outputs": []
    },
    {
      "cell_type": "code",
      "source": [
        "# Perform the ANOVA test\n",
        "F_statistic, p_value = stats.f_oneway(*groups)\n",
        "\n",
        "print(f\"F-statistic: {F_statistic}\")\n",
        "print(f\"P-value: {p_value}\")"
      ],
      "metadata": {
        "colab": {
          "base_uri": "https://localhost:8080/"
        },
        "id": "us8eAGzKnmx8",
        "outputId": "353112af-6787-41b7-cf28-05d7a7d027b9"
      },
      "execution_count": null,
      "outputs": [
        {
          "output_type": "stream",
          "name": "stdout",
          "text": [
            "F-statistic: 128.24062856509232\n",
            "P-value: 3.9598972225387633e-209\n"
          ]
        }
      ]
    },
    {
      "cell_type": "markdown",
      "source": [
        "###2.2 Result"
      ],
      "metadata": {
        "id": "mX3qy3Y-n_Jf"
      }
    },
    {
      "cell_type": "markdown",
      "source": [
        "The p-value is extraordinarily small, far below any common significance level (e.g., 0.05). This means that we can confidently **reject** the null hypothesis H₀."
      ],
      "metadata": {
        "id": "R8zEbROWoCWJ"
      }
    },
    {
      "cell_type": "markdown",
      "source": [
        "###2.3 Conclusion"
      ],
      "metadata": {
        "id": "onf8LAnZoU18"
      }
    },
    {
      "cell_type": "markdown",
      "source": [
        "There is strong evidence to support the alternative hypothesis (H₁), indicating that the average amount spent on coffee equipment varies significantly across different levels of coffee expertise. This suggests that coffee expertise influences spending behavior on coffee equipment."
      ],
      "metadata": {
        "id": "xURbFRaWoZOv"
      }
    }
  ]
}